{
 "cells": [
  {
   "cell_type": "markdown",
   "metadata": {},
   "source": [
    "# HW6: A GRU-pair model for SNLI with attention"
   ]
  },
  {
   "cell_type": "markdown",
   "metadata": {},
   "source": [
    "In this assignment we'll build and train an attention-based model for SNLI. The model will incorporate the basic word-by-word attention+matching layer design from [Wang and Jiang](https://arxiv.org/pdf/1512.08849v2.pdf), but it will use GRUs instead of LSTMs, and it will use [Luong et al.](http://www.aclweb.org/anthology/D15-1166)'s 'general' bilinear attention scoring function.\n",
    "\n",
    "Do not start this assignment at the last minute, since the model you build may take several hours to train.\n",
    "\n",
    "**Note:** Submissions (both late initial submissions and resubmissions) will only be accepted until the evening of 12/16. Resubmission will be open for only a few days, even for students who submit on time."
   ]
  },
  {
   "cell_type": "markdown",
   "metadata": {},
   "source": [
    "## Setup"
   ]
  },
  {
   "cell_type": "markdown",
   "metadata": {},
   "source": [
    "You'll need to download and unzip SNLI, which you can find [here](http://nlp.stanford.edu/projects/snli/). Set `snli_home` below to point to it. The following block of code loads it."
   ]
  },
  {
   "cell_type": "code",
   "execution_count": 2,
   "metadata": {
    "collapsed": false,
    "scrolled": true
   },
   "outputs": [],
   "source": [
    "snli_home = '/media/wanghaoran1992/新加卷/Data/SNLI/snli_1.0'\n",
    "\n",
    "import re\n",
    "import random\n",
    "import json\n",
    "\n",
    "LABEL_MAP = {\n",
    "    \"entailment\": 0,\n",
    "    \"neutral\": 1,\n",
    "    \"contradiction\": 2\n",
    "}\n",
    "\n",
    "def load_snli_data(path):\n",
    "    data = []\n",
    "    with open(path) as f:\n",
    "        for line in f:\n",
    "            loaded_example = json.loads(line)\n",
    "            if loaded_example[\"gold_label\"] not in LABEL_MAP:\n",
    "                continue\n",
    "            loaded_example[\"label\"] = LABEL_MAP[loaded_example[\"gold_label\"]]\n",
    "            data.append(loaded_example)\n",
    "        random.seed(1)\n",
    "        random.shuffle(data)\n",
    "    return data\n",
    "     \n",
    "training_set = load_snli_data(snli_home + '/snli_1.0_train.jsonl')\n",
    "dev_set = load_snli_data(snli_home + '/snli_1.0_dev.jsonl')\n",
    "test_set = load_snli_data(snli_home + '/snli_1.0_test.jsonl')\n",
    "\n",
    "# Note: Unlike with k-nearest neighbors, evaluation here should be fast, and we don't need to\n",
    "# trim down the dev and test sets. "
   ]
  },
  {
   "cell_type": "markdown",
   "metadata": {},
   "source": [
    "Next, we'll convert the data to index vectors in the same way that we've done for in-class exercises with RNN-based sentiment models. A few notes:\n",
    "\n",
    "- We use a sequence length of only 10, which is short enough that we're truncating a large fraction of sentences.\n",
    "- Tokenization is easy here because we're relying on the output of a parser (which does tokenization as part of parsing), just as with the SST corpus that we've been using until now. Note that we use the 'sentence1_binary_parse' field of each example rather than the human-readable 'sentence1'.\n",
    "- We're using a moderately large vocabulary of about 36k words."
   ]
  },
  {
   "cell_type": "code",
   "execution_count": 3,
   "metadata": {
    "collapsed": false,
    "scrolled": true
   },
   "outputs": [],
   "source": [
    "SEQ_LEN = 10\n",
    "\n",
    "import collections\n",
    "import numpy as np\n",
    "\n",
    "def sentences_to_padded_index_sequences(datasets):\n",
    "    '''Annotates datasets with feature vectors.'''\n",
    "    \n",
    "    PADDING = \"<PAD>\"\n",
    "    UNKNOWN = \"<UNK>\"\n",
    "    \n",
    "    # Extract vocabulary\n",
    "    def tokenize(string):\n",
    "        string = re.sub(r'\\(|\\)', '', string)\n",
    "        return string.lower().split()\n",
    "    \n",
    "    word_counter = collections.Counter()\n",
    "    for example in datasets[0]:\n",
    "        word_counter.update(tokenize(example['sentence1_binary_parse']))\n",
    "        word_counter.update(tokenize(example['sentence2_binary_parse']))\n",
    "        \n",
    "    vocabulary = set([word for word in word_counter])\n",
    "    vocabulary = list(vocabulary)\n",
    "    vocabulary = [PADDING, UNKNOWN] + vocabulary\n",
    "        \n",
    "    word_indices = dict(zip(vocabulary, range(len(vocabulary))))\n",
    "    indices_to_words = {v: k for k, v in word_indices.items()}\n",
    "        \n",
    "    for i, dataset in enumerate(datasets):\n",
    "        for example in dataset:\n",
    "            for sentence in ['sentence1_binary_parse', 'sentence2_binary_parse']:\n",
    "                example[sentence + '_index_sequence'] = np.zeros((SEQ_LEN), dtype=np.int32)\n",
    "\n",
    "                token_sequence = tokenize(example[sentence])\n",
    "                padding = SEQ_LEN - len(token_sequence)\n",
    "\n",
    "                for i in range(SEQ_LEN):\n",
    "                    if i >= padding:\n",
    "                        if token_sequence[i - padding] in word_indices:\n",
    "                            index = word_indices[token_sequence[i - padding]]\n",
    "                        else:\n",
    "                            index = word_indices[UNKNOWN]\n",
    "                    else:\n",
    "                        index = word_indices[PADDING]\n",
    "                    example[sentence + '_index_sequence'][i] = index\n",
    "    return indices_to_words, word_indices\n",
    "    \n",
    "indices_to_words, word_indices = sentences_to_padded_index_sequences([training_set, dev_set, test_set])"
   ]
  },
  {
   "cell_type": "code",
   "execution_count": 4,
   "metadata": {
    "collapsed": false,
    "scrolled": true
   },
   "outputs": [
    {
     "name": "stdout",
     "output_type": "stream",
     "text": [
      "{u'annotator_labels': [u'contradiction'], u'sentence2_parse': u'(ROOT (NP (NP (NNS People)) (PP (IN on) (NP (DT a) (NN bike))) (PP (IN on) (NP (DT a) (NN beach))) (. .)))', u'sentence1_binary_parse': u'( ( Five men ) ( ( are ( ( ( playing ( musical instruments ) ) together ) ( on ( a stage ) ) ) ) . ) )', u'captionID': u'2430018178.jpg#1', 'sentence1_binary_parse_index_sequence': array([ 4427, 35502, 23868,  2606,  7654, 11706, 16853, 30670, 11078,   378], dtype=int32), 'label': 2, u'sentence2_binary_parse': u'( ( ( People ( on ( a bike ) ) ) ( on ( a beach ) ) ) . )', u'pairID': u'2430018178.jpg#1r1c', u'sentence2': u'People on a bike on a beach.', u'sentence1_parse': u'(ROOT (S (NP (CD Five) (NNS men)) (VP (VBP are) (VP (VBG playing) (NP (JJ musical) (NNS instruments)) (ADVP (RB together)) (PP (IN on) (NP (DT a) (NN stage))))) (. .)))', 'sentence2_binary_parse_index_sequence': array([    0,     0,  9336, 16853, 30670, 20331, 16853, 30670, 20428,   378], dtype=int32), u'gold_label': u'contradiction', u'sentence1': u'Five men are playing musical instruments together on a stage.'}\n",
      "36364\n"
     ]
    }
   ],
   "source": [
    "print training_set[6]\n",
    "print len(word_indices)"
   ]
  },
  {
   "cell_type": "markdown",
   "metadata": {},
   "source": [
    "Now we load GloVe. You'll need the same file that you used for the in-class exercise on word embeddings."
   ]
  },
  {
   "cell_type": "code",
   "execution_count": 5,
   "metadata": {
    "collapsed": false,
    "scrolled": true
   },
   "outputs": [],
   "source": [
    "glove_home = '/media/wanghaoran1992/新加卷/Data/Glove/glove.6B/'\n",
    "words_to_load = 50000\n",
    "\n",
    "with open(glove_home + 'glove.6B.50d.txt') as f:\n",
    "    loaded_embeddings = np.zeros((len(word_indices), 50), dtype='float32')\n",
    "    for i, line in enumerate(f):\n",
    "        if i >= words_to_load: \n",
    "            break\n",
    "        \n",
    "        s = line.split()\n",
    "        if s[0] in word_indices:\n",
    "            loaded_embeddings[word_indices[s[0]], :] = np.asarray(s[1:])"
   ]
  },
  {
   "cell_type": "markdown",
   "metadata": {},
   "source": [
    "Now we set up an evaluation function as before."
   ]
  },
  {
   "cell_type": "code",
   "execution_count": 6,
   "metadata": {
    "collapsed": false,
    "scrolled": true
   },
   "outputs": [],
   "source": [
    "def evaluate_classifier(classifier, eval_set):\n",
    "    correct = 0\n",
    "    hypotheses = classifier(eval_set)\n",
    "    for i, example in enumerate(eval_set):\n",
    "        hypothesis = hypotheses[i]\n",
    "        if hypothesis == example['label']:\n",
    "            correct += 1        \n",
    "    return correct / float(len(eval_set))"
   ]
  },
  {
   "cell_type": "markdown",
   "metadata": {},
   "source": [
    "## Part 1: Implementation (70%)"
   ]
  },
  {
   "cell_type": "markdown",
   "metadata": {},
   "source": [
    "Expand the below starter code to build a working attention-based NLI model. The model should feature the following:\n",
    "\n",
    "- 50D word embeddings initialized with GloVe and trained. (Using self.E should provide this.)\n",
    "- Three GRUs (with two different sets of parameters): a premise encoder, a hypothesis encoder (sharing the same parameters), and matching GRU, taking the place of [Wang and Jiang](https://arxiv.org/pdf/1512.08849v2.pdf)'s mLSTM, with its own parameters. There shouldn't be a connection between the premise and hypothesis GRUs: the starting hidden state for each of the three GRUs should be zeros.\n",
    "- Word-by-word attention using [Luong et al.](http://www.aclweb.org/anthology/D15-1166)'s 'general' (bilinear) scoring function.\n",
    "- A three-way softmax classifier whose input is the final hidden state of the matching RNN.\n",
    "\n",
    "As ever, do not use any other pre-written code or TF functions that are specific to RNNs or attention.\n"
   ]
  },
  {
   "cell_type": "markdown",
   "metadata": {},
   "source": [
    "As in class, the below line may give you a warning. It should be safe to ignore."
   ]
  },
  {
   "cell_type": "code",
   "execution_count": 7,
   "metadata": {
    "collapsed": false,
    "scrolled": true
   },
   "outputs": [],
   "source": [
    "%matplotlib inline\n",
    "import matplotlib.pyplot as plt"
   ]
  },
  {
   "cell_type": "code",
   "execution_count": 8,
   "metadata": {
    "collapsed": false,
    "scrolled": true
   },
   "outputs": [],
   "source": [
    "import tensorflow as tf"
   ]
  },
  {
   "cell_type": "code",
   "execution_count": 23,
   "metadata": {
    "collapsed": false,
    "scrolled": true
   },
   "outputs": [],
   "source": [
    "class RNNEntailmentClassifier:\n",
    "    def __init__(self, vocab_size, sequence_length):\n",
    "        # Define the hyperparameters\n",
    "        self.training_epochs = 30  # How long to train for - chosen to fit within class time\n",
    "        self.display_epoch_freq = 1  # How often to print cost (in epochs)\n",
    "        self.display_step_freq = 250  # How often to test (in steps)\n",
    "        self.dim = 24  # The dimension of the hidden state of each RNN\n",
    "        self.embedding_dim = 50  # The dimension of the learned word embeddings\n",
    "        self.batch_size = 64  # Somewhat arbitrary - can be tuned, but often tune for speed, not accuracy\n",
    "        self.vocab_size = vocab_size  # Defined by the file reader above\n",
    "        self.sequence_length = sequence_length  # Defined by the file reader above\n",
    "        \n",
    "        # Define the parameters\n",
    "        self.E = tf.Variable(loaded_embeddings, trainable=False)\n",
    "        \n",
    "        # parameters for attention\n",
    "        self.W_a = tf.Variable(tf.random_normal([self.dim, self.dim],stddev = 0.1))\n",
    "        \n",
    "        self.W_cl = tf.Variable(tf.random_normal([self.dim, 3], stddev=0.1))\n",
    "        self.b_cl = tf.Variable(tf.random_normal([3], stddev=0.1))\n",
    "\n",
    "        # two set of parameters\n",
    "        in_dim = self.embedding_dim\n",
    "            \n",
    "        self.W_rnn = tf.Variable(tf.random_normal([in_dim + self.dim, self.dim], stddev=0.1))\n",
    "        self.b_rnn = tf.Variable(tf.random_normal([self.dim], stddev=0.1))\n",
    "\n",
    "        self.W_r = tf.Variable(tf.random_normal([in_dim + self.dim, self.dim], stddev=0.1))\n",
    "        self.b_r = tf.Variable(tf.random_normal([self.dim], stddev=0.1))\n",
    "\n",
    "        self.W_z = tf.Variable(tf.random_normal([in_dim + self.dim, self.dim], stddev=0.1))\n",
    "        self.b_z = tf.Variable(tf.random_normal([self.dim], stddev=0.1))\n",
    "        \n",
    "        \n",
    "        self.W_rnn_matching = tf.Variable(tf.random_normal([3*self.dim, self.dim], stddev=0.1))\n",
    "        self.b_rnn_matching = tf.Variable(tf.random_normal([self.dim], stddev=0.1))\n",
    "\n",
    "        self.W_r_matching = tf.Variable(tf.random_normal([3*self.dim, self.dim], stddev=0.1))\n",
    "        self.b_r_matching = tf.Variable(tf.random_normal([self.dim], stddev=0.1))\n",
    "\n",
    "        self.W_z_matching = tf.Variable(tf.random_normal([3*self.dim, self.dim], stddev=0.1))\n",
    "        self.b_z_matching = tf.Variable(tf.random_normal([self.dim], stddev=0.1))\n",
    "        \n",
    "            \n",
    "        # Define the placeholders\n",
    "        self.premise_x = tf.placeholder(tf.int32, [None, self.sequence_length])\n",
    "        self.hypothesis_x = tf.placeholder(tf.int32, [None, self.sequence_length])\n",
    "        self.y = tf.placeholder(tf.int32, [None])\n",
    "        \n",
    "        # Define the model\n",
    "        # the gru step\n",
    "        def gru_step(emb, h_prev):\n",
    "            emb_h_prev = tf.concat(1, [emb, h_prev])\n",
    "            z = tf.nn.sigmoid(tf.matmul(emb_h_prev, self.W_z) + self.b_z)\n",
    "            r = tf.nn.sigmoid(tf.matmul(emb_h_prev, self.W_r) + self.b_r)\n",
    "            emb_r_h_prev = tf.concat(1, [emb, r * h_prev])\n",
    "            h_tilde = tf.nn.tanh(tf.matmul(emb_r_h_prev, self.W_rnn) + self.b_rnn)\n",
    "            h = (1. -z) * h_prev + z * h_tilde\n",
    "            return h\n",
    "        \n",
    "        def matching_gru_step(m, h_prev):\n",
    "            m_h_prev = tf.concat(1, [m, h_prev])\n",
    "            z = tf.nn.sigmoid(tf.matmul(m_h_prev, self.W_z_matching) + self.b_z_matching)\n",
    "            r = tf.nn.sigmoid(tf.matmul(m_h_prev, self.W_r_matching) + self.b_r_matching)\n",
    "            m_r_h_prev = tf.concat(1, [m, r * h_prev])\n",
    "            h_tilde = tf.nn.tanh(tf.matmul(m_r_h_prev, self.W_rnn_matching) + self.b_rnn_matching)\n",
    "            h = (1. -z) * h_prev + z * h_tilde\n",
    "            return h\n",
    "\n",
    "        # Define one step of the premise GRU\n",
    "        def premise_step(x, h_prev):\n",
    "            emb = tf.nn.embedding_lookup(self.E, x)\n",
    "            return gru_step(emb, h_prev)\n",
    "        \n",
    "        # Define one step of the hypothesis GRU\n",
    "        def hypothesis_step(x, h_prev):\n",
    "            emb = tf.nn.embedding_lookup(self.E, x)\n",
    "            return gru_step(emb, h_prev)\n",
    "        \n",
    "        # Split up the inputs into individual tensors\n",
    "        self.x_premise_slices = tf.split(1, self.sequence_length, self.premise_x)\n",
    "        self.x_hypothesis_slices = tf.split(1, self.sequence_length, self.hypothesis_x)\n",
    "        \n",
    "        self.h_zero = tf.zeros(tf.pack([tf.shape(self.premise_x)[0], self.dim]))\n",
    "        \n",
    "        # Unroll the first GRU\n",
    "        premise_h_prev = self.h_zero\n",
    "        premise_steps_list = []\n",
    "\n",
    "        for t in range(self.sequence_length):\n",
    "            x_t = tf.reshape(self.x_premise_slices[t], [-1])\n",
    "            premise_h_prev = premise_step(x_t, premise_h_prev)\n",
    "            premise_steps_list.append(premise_h_prev)\n",
    "            \n",
    "        premise_steps = tf.pack(premise_steps_list, axis=1)\n",
    " \n",
    "        # Unroll the second GRU\n",
    "        hypothesis_h_prev = self.h_zero\n",
    "        hypothesis_steps_list = []\n",
    "        \n",
    "        for t in range(self.sequence_length):\n",
    "            x_t = tf.reshape(self.x_hypothesis_slices[t], [-1])\n",
    "            hypothesis_h_prev = hypothesis_step(x_t, hypothesis_h_prev)\n",
    "            hypothesis_steps_list.append(hypothesis_h_prev)\n",
    "        \n",
    "        # Attention and the matching GRU\n",
    "        self.complete_attn_weights = []\n",
    "        match_h_previous = tf.zeros([tf.shape(self.premise_x)[0], self.dim])\n",
    "        for t in range(self.sequence_length):\n",
    "            wm_list = []\n",
    "            hypothesis_hidden = hypothesis_steps_list[t]\n",
    "            for i in range(len(premise_steps_list)):\n",
    "                premise_hidden = premise_steps_list[i]\n",
    "                w = tf.reduce_sum(tf.mul(tf.matmul(hypothesis_hidden, self.W_a), premise_hidden),1, keep_dims = True)\n",
    "                wm_list.append(w)\n",
    "            wm = tf.pack(wm_list, axis=1)        \n",
    "            attn_weights = tf.nn.softmax(wm, dim=1)\n",
    "            self.complete_attn_weights.append(tf.reshape(attn_weights,[tf.shape(self.premise_x)[0], self.sequence_length]))\n",
    "            intermediate_a = tf.mul(attn_weights, premise_steps)\n",
    "            a = tf.reduce_sum(intermediate_a, 1)\n",
    "            m = tf.concat(1, [hypothesis_hidden, a])\n",
    "            match_h_previous = matching_gru_step(m, match_h_previous)\n",
    "        self.complete_attn_weights = tf.pack(self.complete_attn_weights, axis = 2)\n",
    "        \n",
    "        # Compute the logits\n",
    "        self.logits = tf.matmul(match_h_previous, self.W_cl) + self.b_cl\n",
    "        \n",
    "        # Define the cost function (here, the softmax exp and sum are built in)\n",
    "        self.total_cost = tf.reduce_mean(tf.nn.sparse_softmax_cross_entropy_with_logits(self.logits, self.y))\n",
    "        \n",
    "        # This  performs the main SGD update equation with gradient clipping\n",
    "        optimizer_obj = tf.train.AdamOptimizer()\n",
    "        gvs = optimizer_obj.compute_gradients(self.total_cost)\n",
    "        capped_gvs = [(tf.clip_by_norm(grad, 5.0), var) for grad, var in gvs if grad is not None]\n",
    "        self.optimizer = optimizer_obj.apply_gradients(capped_gvs)\n",
    "        \n",
    "        # Create an operation to fill zero values in for W and b\n",
    "        self.init = tf.initialize_all_variables()\n",
    "\n",
    "        # Create a placeholder for the session that will be shared between training and evaluation\n",
    "        self.sess = tf.Session()\n",
    "        \n",
    "        # Initialize variables\n",
    "        self.sess.run(self.init)\n",
    "        self.step = 1\n",
    "        self.epoch = 0\n",
    "        \n",
    "    def train(self, training_data, dev_data):\n",
    "        def get_minibatch(dataset, start_index, end_index):\n",
    "            indices = range(start_index, end_index)\n",
    "            premise_vectors = np.vstack([dataset[i]['sentence1_binary_parse_index_sequence'] for i in indices])\n",
    "            hypothesis_vectors = np.vstack([dataset[i]['sentence2_binary_parse_index_sequence'] for i in indices])\n",
    "            labels = [dataset[i]['label'] for i in indices]\n",
    "            return premise_vectors, hypothesis_vectors, labels\n",
    "\n",
    "        print 'Training.'\n",
    "\n",
    "        # Training cycle\n",
    "        for _ in range(self.training_epochs):\n",
    "            random.shuffle(training_data)\n",
    "            avg_cost = 0.\n",
    "            total_batch = int(len(training_data) / self.batch_size)\n",
    "            \n",
    "            # Loop over all batches in epoch\n",
    "            for i in range(total_batch):\n",
    "                # Assemble a minibatch of the next B examples\n",
    "                minibatch_premise_vectors, minibatch_hypothesis_vectors, minibatch_labels = get_minibatch(\n",
    "                    training_data, self.batch_size * i, self.batch_size * (i + 1))\n",
    "\n",
    "                # Run the optimizer to take a gradient step, and also fetch the value of the \n",
    "                # cost function for logging\n",
    "                _, c = self.sess.run(\n",
    "                     [self.optimizer, self.total_cost], \n",
    "                     feed_dict={self.premise_x: minibatch_premise_vectors,\n",
    "                                self.hypothesis_x: minibatch_hypothesis_vectors,\n",
    "                                self.y: minibatch_labels})\n",
    "\n",
    "                if self.step % self.display_step_freq == 0:\n",
    "                    print \"Step:\", self.step, \"Dev acc:\", evaluate_classifier(self.classify, dev_data[0:1000]), \\\n",
    "                        \"Train acc:\", evaluate_classifier(self.classify, training_data[0:1000]) \n",
    "                                  \n",
    "                self.step += 1\n",
    "                avg_cost += c / (total_batch * self.batch_size)\n",
    "                                \n",
    "            # Display some statistics about the step\n",
    "            # Evaluating only one batch worth of data\n",
    "            if self.epoch % self.display_epoch_freq == 0:\n",
    "                print \"Epoch:\", (self.epoch + 1), \"Cost:\", avg_cost \n",
    "            self.epoch += 1\n",
    "    \n",
    "    def classify(self, examples):\n",
    "        # This classifies a list of examples\n",
    "        premise_vectors = np.vstack([example['sentence1_binary_parse_index_sequence'] for example in examples])\n",
    "        hypothesis_vectors = np.vstack([example['sentence2_binary_parse_index_sequence'] for example in examples])\n",
    "        logits = self.sess.run(self.logits,\n",
    "                               feed_dict={self.premise_x: premise_vectors,\n",
    "                                          self.hypothesis_x: hypothesis_vectors})\n",
    "\n",
    "        return np.argmax(logits, axis=1)\n",
    "\n",
    "    def get_attn(self, examples):\n",
    "        premise_vectors = np.vstack([example['sentence1_binary_parse_index_sequence'] for example in examples])\n",
    "        hypothesis_vectors = np.vstack([example['sentence2_binary_parse_index_sequence'] for example in examples])\n",
    "        attn_weights = self.sess.run(self.complete_attn_weights, \n",
    "                                     feed_dict={self.premise_x: premise_vectors,\n",
    "                                                self.hypothesis_x: hypothesis_vectors})\n",
    "        return np.reshape(attn_weights, [len(examples), 10, 10])\n",
    "        \n",
    "    def plot_attn(self, examples):\n",
    "        attn_weights = self.get_attn(examples)\n",
    "\n",
    "        for i in range(len(examples)):    \n",
    "            fig = plt.figure()\n",
    "            ax = fig.add_subplot(111)\n",
    "            ax.matshow(attn_weights[i,:,:], vmin=0., vmax=1., cmap=plt.cm.inferno)\n",
    "\n",
    "            premise_tokens = [indices_to_words[index] for index in examples[i]['sentence1_binary_parse_index_sequence']]\n",
    "            hypothesis_tokens = [indices_to_words[index] for index in examples[i]['sentence2_binary_parse_index_sequence']]\n",
    "\n",
    "            ax.set_yticklabels(premise_tokens)\n",
    "            ax.set_xticklabels(hypothesis_tokens, rotation=45)\n",
    "\n",
    "            plt.xticks(np.arange(0, 10, 1.0))\n",
    "            plt.yticks(np.arange(0, 10, 1.0))"
   ]
  },
  {
   "cell_type": "markdown",
   "metadata": {},
   "source": [
    "This creates a classifier and initializes it. Note that starting and stopping training will not re-initialize the model."
   ]
  },
  {
   "cell_type": "code",
   "execution_count": 24,
   "metadata": {
    "collapsed": false,
    "scrolled": true
   },
   "outputs": [],
   "source": [
    "classifier = RNNEntailmentClassifier(len(word_indices), SEQ_LEN)"
   ]
  },
  {
   "cell_type": "markdown",
   "metadata": {},
   "source": [
    "Running this line tests that you've successfully avoided a common error in implementing attention: mixing up dimensions in a way that allows information about one example in a batch to impact the results for other examples. It should do nothing if the model behaves correctly, and will throw an error otherwise."
   ]
  },
  {
   "cell_type": "code",
   "execution_count": 26,
   "metadata": {
    "collapsed": false,
    "scrolled": true
   },
   "outputs": [],
   "source": [
    "assert (classifier.get_attn(training_set[0:2])[0, :, :] == \\\n",
    "        classifier.get_attn(training_set[0:3])[0, :, :]).all(), \\\n",
    "       'Warning: There is cross-example information flow.'"
   ]
  },
  {
   "cell_type": "markdown",
   "metadata": {
    "collapsed": true
   },
   "source": [
    "Run the model below. Your goal is dev set performance above 74% at at least a few steps within the first 30 epochs. This may require running your model overnight, though it won't necessarily require running for all 30 epochs. Since a single epoch can take a long time with this model, you'll see accuracy results every 250 steps rather than every epoch."
   ]
  },
  {
   "cell_type": "code",
   "execution_count": 28,
   "metadata": {
    "collapsed": false,
    "scrolled": true
   },
   "outputs": [
    {
     "name": "stdout",
     "output_type": "stream",
     "text": [
      "Training.\n",
      "Step: 250 Dev acc: 0.511 Train acc: 0.502\n",
      "Step: 500 Dev acc: 0.545 Train acc: 0.543\n",
      "Step: 750 Dev acc: 0.569 Train acc: 0.567\n",
      "Step: 1000 Dev acc: 0.58 Train acc: 0.569\n",
      "Step: 1250 Dev acc: 0.595 Train acc: 0.561\n",
      "Step: 1500 Dev acc: 0.585 Train acc: 0.576\n",
      "Step: 1750 Dev acc: 0.593 Train acc: 0.579\n",
      "Step: 2000 Dev acc: 0.6 Train acc: 0.578\n",
      "Step: 2250 Dev acc: 0.617 Train acc: 0.593\n",
      "Step: 2500 Dev acc: 0.637 Train acc: 0.594\n",
      "Step: 2750 Dev acc: 0.613 Train acc: 0.595\n",
      "Step: 3000 Dev acc: 0.64 Train acc: 0.598\n",
      "Step: 3250 Dev acc: 0.626 Train acc: 0.605\n",
      "Step: 3500 Dev acc: 0.644 Train acc: 0.607\n",
      "Step: 3750 Dev acc: 0.643 Train acc: 0.607\n",
      "Step: 4000 Dev acc: 0.66 Train acc: 0.603\n",
      "Step: 4250 Dev acc: 0.646 Train acc: 0.591\n",
      "Step: 4500 Dev acc: 0.656 Train acc: 0.614\n",
      "Step: 4750 Dev acc: 0.652 Train acc: 0.618\n",
      "Step: 5000 Dev acc: 0.659 Train acc: 0.634\n",
      "Step: 5250 Dev acc: 0.661 Train acc: 0.613\n",
      "Step: 5500 Dev acc: 0.668 Train acc: 0.624\n",
      "Step: 5750 Dev acc: 0.666 Train acc: 0.626\n",
      "Step: 6000 Dev acc: 0.665 Train acc: 0.623\n",
      "Step: 6250 Dev acc: 0.674 Train acc: 0.642\n",
      "Step: 6500 Dev acc: 0.676 Train acc: 0.635\n",
      "Step: 6750 Dev acc: 0.682 Train acc: 0.657\n",
      "Step: 7000 Dev acc: 0.675 Train acc: 0.63\n",
      "Step: 7250 Dev acc: 0.681 Train acc: 0.648\n",
      "Step: 7500 Dev acc: 0.683 Train acc: 0.635\n",
      "Step: 7750 Dev acc: 0.688 Train acc: 0.648\n",
      "Step: 8000 Dev acc: 0.689 Train acc: 0.654\n",
      "Step: 8250 Dev acc: 0.688 Train acc: 0.636\n",
      "Step: 8500 Dev acc: 0.681 Train acc: 0.633\n",
      "Epoch: 1 Cost: 0.0132338124277\n",
      "Step: 8750 Dev acc: 0.679 Train acc: 0.677\n",
      "Step: 9000 Dev acc: 0.672 Train acc: 0.672\n",
      "Step: 9250 Dev acc: 0.682 Train acc: 0.673\n",
      "Step: 9500 Dev acc: 0.674 Train acc: 0.677\n",
      "Step: 9750 Dev acc: 0.679 Train acc: 0.669\n",
      "Step: 10000 Dev acc: 0.688 Train acc: 0.665\n",
      "Step: 10250 Dev acc: 0.686 Train acc: 0.672\n",
      "Step: 10500 Dev acc: 0.686 Train acc: 0.667\n",
      "Step: 10750 Dev acc: 0.683 Train acc: 0.683\n",
      "Step: 11000 Dev acc: 0.689 Train acc: 0.678\n",
      "Step: 11250 Dev acc: 0.687 Train acc: 0.688\n",
      "Step: 11500 Dev acc: 0.68 Train acc: 0.688\n",
      "Step: 11750 Dev acc: 0.686 Train acc: 0.686\n",
      "Step: 12000 Dev acc: 0.686 Train acc: 0.697\n",
      "Step: 12250 Dev acc: 0.69 Train acc: 0.684\n",
      "Step: 12500 Dev acc: 0.691 Train acc: 0.69\n",
      "Step: 12750 Dev acc: 0.68 Train acc: 0.682\n",
      "Step: 13000 Dev acc: 0.673 Train acc: 0.687\n",
      "Step: 13250 Dev acc: 0.687 Train acc: 0.68\n",
      "Step: 13500 Dev acc: 0.69 Train acc: 0.68\n",
      "Step: 13750 Dev acc: 0.69 Train acc: 0.685\n",
      "Step: 14000 Dev acc: 0.684 Train acc: 0.688\n",
      "Step: 14250 Dev acc: 0.692 Train acc: 0.686\n",
      "Step: 14500 Dev acc: 0.688 Train acc: 0.68\n",
      "Step: 14750 Dev acc: 0.692 Train acc: 0.7\n",
      "Step: 15000 Dev acc: 0.69 Train acc: 0.693\n",
      "Step: 15250 Dev acc: 0.692 Train acc: 0.686\n",
      "Step: 15500 Dev acc: 0.697 Train acc: 0.695\n",
      "Step: 15750 Dev acc: 0.692 Train acc: 0.694\n",
      "Step: 16000 Dev acc: 0.698 Train acc: 0.698\n",
      "Step: 16250 Dev acc: 0.69 Train acc: 0.695\n",
      "Step: 16500 Dev acc: 0.692 Train acc: 0.692\n",
      "Step: 16750 Dev acc: 0.698 Train acc: 0.693\n",
      "Step: 17000 Dev acc: 0.702 Train acc: 0.692\n",
      "Epoch: 2 Cost: 0.0117950563739\n",
      "Step: 17250 Dev acc: 0.679 Train acc: 0.727\n",
      "Step: 17500 Dev acc: 0.686 Train acc: 0.715\n",
      "Step: 17750 Dev acc: 0.69 Train acc: 0.716\n",
      "Step: 18000 Dev acc: 0.686 Train acc: 0.7\n",
      "Step: 18250 Dev acc: 0.7 Train acc: 0.713\n",
      "Step: 18500 Dev acc: 0.684 Train acc: 0.708\n",
      "Step: 18750 Dev acc: 0.695 Train acc: 0.698\n",
      "Step: 19000 Dev acc: 0.7 Train acc: 0.707\n",
      "Step: 19250 Dev acc: 0.696 Train acc: 0.7\n",
      "Step: 19500 Dev acc: 0.692 Train acc: 0.703\n",
      "Step: 19750 Dev acc: 0.71 Train acc: 0.709\n",
      "Step: 20000 Dev acc: 0.705 Train acc: 0.711\n",
      "Step: 20250 Dev acc: 0.7 Train acc: 0.707\n",
      "Step: 20500 Dev acc: 0.711 Train acc: 0.709\n",
      "Step: 20750 Dev acc: 0.7 Train acc: 0.702\n",
      "Step: 21000 Dev acc: 0.693 Train acc: 0.7\n",
      "Step: 21250 Dev acc: 0.712 Train acc: 0.697\n",
      "Step: 21500 Dev acc: 0.704 Train acc: 0.703\n",
      "Step: 21750 Dev acc: 0.699 Train acc: 0.693\n",
      "Step: 22000 Dev acc: 0.7 Train acc: 0.71\n",
      "Step: 22250 Dev acc: 0.709 Train acc: 0.706\n",
      "Step: 22500 Dev acc: 0.698 Train acc: 0.701\n",
      "Step: 22750 Dev acc: 0.693 Train acc: 0.704\n",
      "Step: 23000 Dev acc: 0.71 Train acc: 0.705\n",
      "Step: 23250 Dev acc: 0.702 Train acc: 0.709\n",
      "Step: 23500 Dev acc: 0.697 Train acc: 0.713\n",
      "Step: 23750 Dev acc: 0.716 Train acc: 0.713\n",
      "Step: 24000 Dev acc: 0.697 Train acc: 0.704\n",
      "Step: 24250 Dev acc: 0.684 Train acc: 0.717\n",
      "Step: 24500 Dev acc: 0.681 Train acc: 0.692\n",
      "Step: 24750 Dev acc: 0.712 Train acc: 0.701\n",
      "Step: 25000 Dev acc: 0.706 Train acc: 0.712\n",
      "Step: 25250 Dev acc: 0.692 Train acc: 0.712\n",
      "Step: 25500 Dev acc: 0.705 Train acc: 0.707\n",
      "Epoch: 3 Cost: 0.0113105608429\n",
      "Step: 25750 Dev acc: 0.713 Train acc: 0.693\n",
      "Step: 26000 Dev acc: 0.71 Train acc: 0.706\n",
      "Step: 26250 Dev acc: 0.711 Train acc: 0.702\n",
      "Step: 26500 Dev acc: 0.696 Train acc: 0.714\n",
      "Step: 26750 Dev acc: 0.706 Train acc: 0.705\n",
      "Step: 27000 Dev acc: 0.705 Train acc: 0.7\n",
      "Step: 27250 Dev acc: 0.711 Train acc: 0.706\n",
      "Step: 27500 Dev acc: 0.713 Train acc: 0.709\n",
      "Step: 27750 Dev acc: 0.701 Train acc: 0.685\n",
      "Step: 28000 Dev acc: 0.696 Train acc: 0.697\n",
      "Step: 28250 Dev acc: 0.713 Train acc: 0.708\n",
      "Step: 28500 Dev acc: 0.708 Train acc: 0.712\n",
      "Step: 28750 Dev acc: 0.71 Train acc: 0.695\n",
      "Step: 29000 Dev acc: 0.692 Train acc: 0.694\n",
      "Step: 29250 Dev acc: 0.713 Train acc: 0.708\n",
      "Step: 29500 Dev acc: 0.71 Train acc: 0.694\n",
      "Step: 29750 Dev acc: 0.699 Train acc: 0.696\n",
      "Step: 30000 Dev acc: 0.713 Train acc: 0.703\n",
      "Step: 30250 Dev acc: 0.701 Train acc: 0.702\n",
      "Step: 30500 Dev acc: 0.705 Train acc: 0.709\n",
      "Step: 30750 Dev acc: 0.715 Train acc: 0.706\n",
      "Step: 31000 Dev acc: 0.712 Train acc: 0.709\n",
      "Step: 31250 Dev acc: 0.713 Train acc: 0.701\n",
      "Step: 31500 Dev acc: 0.715 Train acc: 0.71\n",
      "Step: 31750 Dev acc: 0.708 Train acc: 0.706\n",
      "Step: 32000 Dev acc: 0.714 Train acc: 0.7\n",
      "Step: 32250 Dev acc: 0.721 Train acc: 0.698\n",
      "Step: 32500 Dev acc: 0.72 Train acc: 0.696\n",
      "Step: 32750 Dev acc: 0.703 Train acc: 0.695\n",
      "Step: 33000 Dev acc: 0.715 Train acc: 0.703\n",
      "Step: 33250 Dev acc: 0.703 Train acc: 0.692\n",
      "Step: 33500 Dev acc: 0.698 Train acc: 0.696\n",
      "Step: 33750 Dev acc: 0.684 Train acc: 0.7\n",
      "Step: 34000 Dev acc: 0.709 Train acc: 0.699\n",
      "Step: 34250 Dev acc: 0.701 Train acc: 0.699\n",
      "Epoch: 4 Cost: 0.0110196791189\n",
      "Step: 34500 Dev acc: 0.698 Train acc: 0.748\n",
      "Step: 34750 Dev acc: 0.695 Train acc: 0.738\n",
      "Step: 35000 Dev acc: 0.705 Train acc: 0.749\n",
      "Step: 35250 Dev acc: 0.699 Train acc: 0.734\n",
      "Step: 35500 Dev acc: 0.714 Train acc: 0.739\n",
      "Step: 35750 Dev acc: 0.719 Train acc: 0.742\n",
      "Step: 36000 Dev acc: 0.71 Train acc: 0.734\n",
      "Step: 36250 Dev acc: 0.693 Train acc: 0.735\n",
      "Step: 36500 Dev acc: 0.706 Train acc: 0.746\n",
      "Step: 36750 Dev acc: 0.715 Train acc: 0.746\n",
      "Step: 37000 Dev acc: 0.703 Train acc: 0.725\n",
      "Step: 37250 Dev acc: 0.708 Train acc: 0.745\n",
      "Step: 37500 Dev acc: 0.702 Train acc: 0.739\n",
      "Step: 37750 Dev acc: 0.71 Train acc: 0.739\n",
      "Step: 38000 Dev acc: 0.706 Train acc: 0.733\n",
      "Step: 38250 Dev acc: 0.719 Train acc: 0.739\n",
      "Step: 38500 Dev acc: 0.712 Train acc: 0.738\n",
      "Step: 38750 Dev acc: 0.717 Train acc: 0.736\n",
      "Step: 39000 Dev acc: 0.717 Train acc: 0.739\n",
      "Step: 39250 Dev acc: 0.703 Train acc: 0.734\n",
      "Step: 39500 Dev acc: 0.702 Train acc: 0.739\n",
      "Step: 39750 Dev acc: 0.704 Train acc: 0.738\n",
      "Step: 40000 Dev acc: 0.698 Train acc: 0.734\n",
      "Step: 40250 Dev acc: 0.714 Train acc: 0.739\n",
      "Step: 40500 Dev acc: 0.708 Train acc: 0.742\n",
      "Step: 40750 Dev acc: 0.705 Train acc: 0.738\n",
      "Step: 41000 Dev acc: 0.702 Train acc: 0.737\n",
      "Step: 41250 Dev acc: 0.72 Train acc: 0.741\n",
      "Step: 41500 Dev acc: 0.716 Train acc: 0.731\n",
      "Step: 41750 Dev acc: 0.709 Train acc: 0.748\n",
      "Step: 42000 Dev acc: 0.698 Train acc: 0.738\n",
      "Step: 42250 Dev acc: 0.718 Train acc: 0.735\n",
      "Step: 42500 Dev acc: 0.701 Train acc: 0.737\n",
      "Step: 42750 Dev acc: 0.718 Train acc: 0.731\n",
      "Epoch: 5 Cost: 0.0108430329583\n",
      "Step: 43000 Dev acc: 0.724 Train acc: 0.727\n",
      "Step: 43250 Dev acc: 0.7 Train acc: 0.73\n",
      "Step: 43500 Dev acc: 0.688 Train acc: 0.731\n",
      "Step: 43750 Dev acc: 0.706 Train acc: 0.739\n",
      "Step: 44000 Dev acc: 0.706 Train acc: 0.728\n",
      "Step: 44250 Dev acc: 0.702 Train acc: 0.726\n",
      "Step: 44500 Dev acc: 0.711 Train acc: 0.734\n",
      "Step: 44750 Dev acc: 0.69 Train acc: 0.725\n",
      "Step: 45000 Dev acc: 0.711 Train acc: 0.725\n",
      "Step: 45250 Dev acc: 0.713 Train acc: 0.728\n",
      "Step: 45500 Dev acc: 0.702 Train acc: 0.723\n",
      "Step: 45750 Dev acc: 0.696 Train acc: 0.725\n",
      "Step: 46000 Dev acc: 0.705 Train acc: 0.723\n",
      "Step: 46250 Dev acc: 0.714 Train acc: 0.724\n",
      "Step: 46500 Dev acc: 0.71 Train acc: 0.713\n",
      "Step: 46750 Dev acc: 0.708 Train acc: 0.718\n",
      "Step: 47000 Dev acc: 0.716 Train acc: 0.709\n",
      "Step: 47250 Dev acc: 0.69 Train acc: 0.715\n",
      "Step: 47500 Dev acc: 0.711 Train acc: 0.708\n",
      "Step: 47750 Dev acc: 0.713 Train acc: 0.726\n",
      "Step: 48000 Dev acc: 0.699 Train acc: 0.714\n",
      "Step: 48250 Dev acc: 0.705 Train acc: 0.721\n",
      "Step: 48500 Dev acc: 0.716 Train acc: 0.724\n",
      "Step: 48750 Dev acc: 0.71 Train acc: 0.709\n",
      "Step: 49000 Dev acc: 0.709 Train acc: 0.712\n",
      "Step: 49250 Dev acc: 0.707 Train acc: 0.727\n",
      "Step: 49500 Dev acc: 0.708 Train acc: 0.718\n",
      "Step: 49750 Dev acc: 0.714 Train acc: 0.723\n",
      "Step: 50000 Dev acc: 0.716 Train acc: 0.729\n",
      "Step: 50250 Dev acc: 0.718 Train acc: 0.718\n",
      "Step: 50500 Dev acc: 0.715 Train acc: 0.71\n",
      "Step: 50750 Dev acc: 0.717 Train acc: 0.711\n",
      "Step: 51000 Dev acc: 0.695 Train acc: 0.714\n",
      "Step: 51250 Dev acc: 0.705 Train acc: 0.723\n",
      "Epoch: 6 Cost: 0.0107231221562\n",
      "Step: 51500 Dev acc: 0.715 Train acc: 0.693\n",
      "Step: 51750 Dev acc: 0.706 Train acc: 0.723\n",
      "Step: 52000 Dev acc: 0.715 Train acc: 0.72\n",
      "Step: 52250 Dev acc: 0.716 Train acc: 0.72\n",
      "Step: 52500 Dev acc: 0.714 Train acc: 0.716\n",
      "Step: 52750 Dev acc: 0.72 Train acc: 0.708\n",
      "Step: 53000 Dev acc: 0.716 Train acc: 0.713\n",
      "Step: 53250 Dev acc: 0.71 Train acc: 0.715\n",
      "Step: 53500 Dev acc: 0.716 Train acc: 0.711\n",
      "Step: 53750 Dev acc: 0.715 Train acc: 0.701\n",
      "Step: 54000 Dev acc: 0.713 Train acc: 0.704\n",
      "Step: 54250 Dev acc: 0.714 Train acc: 0.703\n",
      "Step: 54500 Dev acc: 0.718 Train acc: 0.704\n",
      "Step: 54750 Dev acc: 0.715 Train acc: 0.71\n",
      "Step: 55000 Dev acc: 0.708 Train acc: 0.703\n",
      "Step: 55250 Dev acc: 0.703 Train acc: 0.708\n",
      "Step: 55500 Dev acc: 0.699 Train acc: 0.708\n",
      "Step: 55750 Dev acc: 0.695 Train acc: 0.711\n",
      "Step: 56000 Dev acc: 0.697 Train acc: 0.706\n",
      "Step: 56250 Dev acc: 0.694 Train acc: 0.724\n",
      "Step: 56500 Dev acc: 0.707 Train acc: 0.713\n",
      "Step: 56750 Dev acc: 0.712 Train acc: 0.71\n",
      "Step: 57000 Dev acc: 0.715 Train acc: 0.709\n",
      "Step: 57250 Dev acc: 0.709 Train acc: 0.708\n",
      "Step: 57500 Dev acc: 0.717 Train acc: 0.714\n",
      "Step: 57750 Dev acc: 0.705 Train acc: 0.71\n",
      "Step: 58000 Dev acc: 0.696 Train acc: 0.691\n",
      "Step: 58250 Dev acc: 0.718 Train acc: 0.694\n",
      "Step: 58500 Dev acc: 0.712 Train acc: 0.71\n",
      "Step: 58750 Dev acc: 0.707 Train acc: 0.712\n",
      "Step: 59000 Dev acc: 0.712 Train acc: 0.701\n",
      "Step: 59250 Dev acc: 0.713 Train acc: 0.706\n",
      "Step: 59500 Dev acc: 0.702 Train acc: 0.697\n",
      "Step: 59750 Dev acc: 0.712 Train acc: 0.708\n",
      "Step: 60000 Dev acc: 0.714 Train acc: 0.706\n",
      "Epoch: 7 Cost: 0.0106283379277\n",
      "Step: 60250 Dev acc: 0.717 Train acc: 0.727\n",
      "Step: 60500 Dev acc: 0.708 Train acc: 0.723\n",
      "Step: 60750 Dev acc: 0.725 Train acc: 0.705\n",
      "Step: 61000 Dev acc: 0.716 Train acc: 0.711\n",
      "Step: 61250 Dev acc: 0.712 Train acc: 0.701\n",
      "Step: 61500 Dev acc: 0.7 Train acc: 0.711\n",
      "Step: 61750 Dev acc: 0.718 Train acc: 0.709\n",
      "Step: 62000 Dev acc: 0.722 Train acc: 0.71\n",
      "Step: 62250 Dev acc: 0.705 Train acc: 0.712\n",
      "Step: 62500 Dev acc: 0.719 Train acc: 0.71\n",
      "Step: 62750 Dev acc: 0.718 Train acc: 0.712\n",
      "Step: 63000 Dev acc: 0.7 Train acc: 0.712\n",
      "Step: 63250 Dev acc: 0.707 Train acc: 0.709\n",
      "Step: 63500 Dev acc: 0.708 Train acc: 0.704\n",
      "Step: 63750 Dev acc: 0.711 Train acc: 0.698\n",
      "Step: 64000 Dev acc: 0.706 Train acc: 0.71\n",
      "Step: 64250 Dev acc: 0.711 Train acc: 0.705\n",
      "Step: 64500 Dev acc: 0.699 Train acc: 0.693\n",
      "Step: 64750 Dev acc: 0.709 Train acc: 0.709\n",
      "Step: 65000 Dev acc: 0.714 Train acc: 0.713\n",
      "Step: 65250 Dev acc: 0.704 Train acc: 0.709\n",
      "Step: 65500 Dev acc: 0.718 Train acc: 0.703\n",
      "Step: 65750 Dev acc: 0.701 Train acc: 0.715\n",
      "Step: 66000 Dev acc: 0.71 Train acc: 0.71\n",
      "Step: 66250 Dev acc: 0.704 Train acc: 0.707\n",
      "Step: 66500 Dev acc: 0.717 Train acc: 0.704\n",
      "Step: 66750 Dev acc: 0.711 Train acc: 0.71\n",
      "Step: 67000 Dev acc: 0.709 Train acc: 0.696\n",
      "Step: 67250 Dev acc: 0.722 Train acc: 0.698\n",
      "Step: 67500 Dev acc: 0.722 Train acc: 0.712\n",
      "Step: 67750 Dev acc: 0.706 Train acc: 0.698\n",
      "Step: 68000 Dev acc: 0.712 Train acc: 0.705\n",
      "Step: 68250 Dev acc: 0.725 Train acc: 0.697\n",
      "Step: 68500 Dev acc: 0.713 Train acc: 0.713\n",
      "Epoch: 8 Cost: 0.0105547393679\n",
      "Step: 68750 Dev acc: 0.715 Train acc: 0.746\n",
      "Step: 69000 Dev acc: 0.714 Train acc: 0.73\n",
      "Step: 69250 Dev acc: 0.723 Train acc: 0.727\n",
      "Step: 69500 Dev acc: 0.712 Train acc: 0.735\n",
      "Step: 69750 Dev acc: 0.704 Train acc: 0.73\n",
      "Step: 70000 Dev acc: 0.715 Train acc: 0.731\n",
      "Step: 70250 Dev acc: 0.712 Train acc: 0.733\n",
      "Step: 70500 Dev acc: 0.704 Train acc: 0.725\n",
      "Step: 70750 Dev acc: 0.713 Train acc: 0.731\n",
      "Step: 71000 Dev acc: 0.713 Train acc: 0.73\n",
      "Step: 71250 Dev acc: 0.713 Train acc: 0.73\n",
      "Step: 71500 Dev acc: 0.722 Train acc: 0.731\n",
      "Step: 71750 Dev acc: 0.716 Train acc: 0.722\n",
      "Step: 72000 Dev acc: 0.714 Train acc: 0.733\n",
      "Step: 72250 Dev acc: 0.714 Train acc: 0.721\n",
      "Step: 72500 Dev acc: 0.725 Train acc: 0.73\n",
      "Step: 72750 Dev acc: 0.726 Train acc: 0.727\n",
      "Step: 73000 Dev acc: 0.728 Train acc: 0.734\n",
      "Step: 73250 Dev acc: 0.72 Train acc: 0.734\n",
      "Step: 73500 Dev acc: 0.72 Train acc: 0.728\n",
      "Step: 73750 Dev acc: 0.724 Train acc: 0.737\n",
      "Step: 74000 Dev acc: 0.716 Train acc: 0.734\n",
      "Step: 74250 Dev acc: 0.725 Train acc: 0.723\n",
      "Step: 74500 Dev acc: 0.726 Train acc: 0.726\n",
      "Step: 74750 Dev acc: 0.725 Train acc: 0.722\n",
      "Step: 75000 Dev acc: 0.71 Train acc: 0.727\n",
      "Step: 75250 Dev acc: 0.706 Train acc: 0.722\n",
      "Step: 75500 Dev acc: 0.719 Train acc: 0.722\n",
      "Step: 75750 Dev acc: 0.722 Train acc: 0.716\n",
      "Step: 76000 Dev acc: 0.701 Train acc: 0.733\n",
      "Step: 76250 Dev acc: 0.705 Train acc: 0.72\n",
      "Step: 76500 Dev acc: 0.732 Train acc: 0.721\n",
      "Step: 76750 Dev acc: 0.705 Train acc: 0.719\n",
      "Step: 77000 Dev acc: 0.7 Train acc: 0.721\n",
      "Epoch: 9 Cost: 0.0104960376668\n",
      "Step: 77250 Dev acc: 0.71 Train acc: 0.715\n",
      "Step: 77500 Dev acc: 0.714 Train acc: 0.73\n",
      "Step: 77750 Dev acc: 0.716 Train acc: 0.735\n",
      "Step: 78000 Dev acc: 0.727 Train acc: 0.733\n",
      "Step: 78250 Dev acc: 0.716 Train acc: 0.726\n",
      "Step: 78500 Dev acc: 0.722 Train acc: 0.73\n",
      "Step: 78750 Dev acc: 0.721 Train acc: 0.716\n",
      "Step: 79000 Dev acc: 0.716 Train acc: 0.716\n",
      "Step: 79250 Dev acc: 0.713 Train acc: 0.721\n",
      "Step: 79500 Dev acc: 0.713 Train acc: 0.72\n",
      "Step: 79750 Dev acc: 0.723 Train acc: 0.715\n",
      "Step: 80000 Dev acc: 0.713 Train acc: 0.721\n",
      "Step: 80250 Dev acc: 0.712 Train acc: 0.721\n",
      "Step: 80500 Dev acc: 0.718 Train acc: 0.721\n",
      "Step: 80750 Dev acc: 0.723 Train acc: 0.722\n",
      "Step: 81000 Dev acc: 0.726 Train acc: 0.713\n",
      "Step: 81250 Dev acc: 0.719 Train acc: 0.715\n",
      "Step: 81500 Dev acc: 0.717 Train acc: 0.717\n",
      "Step: 81750 Dev acc: 0.717 Train acc: 0.717\n",
      "Step: 82000 Dev acc: 0.715 Train acc: 0.717\n",
      "Step: 82250 Dev acc: 0.719 Train acc: 0.718\n",
      "Step: 82500 Dev acc: 0.716 Train acc: 0.722\n",
      "Step: 82750 Dev acc: 0.725 Train acc: 0.721\n",
      "Step: 83000 Dev acc: 0.707 Train acc: 0.721\n",
      "Step: 83250 Dev acc: 0.7 Train acc: 0.715\n",
      "Step: 83500 Dev acc: 0.711 Train acc: 0.73\n",
      "Step: 83750 Dev acc: 0.725 Train acc: 0.714\n",
      "Step: 84000 Dev acc: 0.717 Train acc: 0.707\n",
      "Step: 84250 Dev acc: 0.724 Train acc: 0.717\n",
      "Step: 84500 Dev acc: 0.726 Train acc: 0.713\n",
      "Step: 84750 Dev acc: 0.707 Train acc: 0.72\n",
      "Step: 85000 Dev acc: 0.71 Train acc: 0.719\n",
      "Step: 85250 Dev acc: 0.698 Train acc: 0.716\n",
      "Step: 85500 Dev acc: 0.724 Train acc: 0.72\n",
      "Step: 85750 Dev acc: 0.717 Train acc: 0.723\n",
      "Epoch: 10 Cost: 0.0104457417748\n",
      "Step: 86000 Dev acc: 0.72 Train acc: 0.749\n",
      "Step: 86250 Dev acc: 0.719 Train acc: 0.747\n",
      "Step: 86500 Dev acc: 0.723 Train acc: 0.745\n",
      "Step: 86750 Dev acc: 0.721 Train acc: 0.748\n",
      "Step: 87000 Dev acc: 0.722 Train acc: 0.728\n",
      "Step: 87250 Dev acc: 0.708 Train acc: 0.74\n",
      "Step: 87500 Dev acc: 0.728 Train acc: 0.743\n",
      "Step: 87750 Dev acc: 0.714 Train acc: 0.729\n",
      "Step: 88000 Dev acc: 0.708 Train acc: 0.735\n",
      "Step: 88250 Dev acc: 0.724 Train acc: 0.734\n",
      "Step: 88500 Dev acc: 0.722 Train acc: 0.726\n",
      "Step: 88750 Dev acc: 0.71 Train acc: 0.735\n",
      "Step: 89000 Dev acc: 0.717 Train acc: 0.727\n",
      "Step: 89250 Dev acc: 0.719 Train acc: 0.744\n",
      "Step: 89500 Dev acc: 0.713 Train acc: 0.744\n",
      "Step: 89750 Dev acc: 0.723 Train acc: 0.734\n",
      "Step: 90000 Dev acc: 0.732 Train acc: 0.73\n",
      "Step: 90250 Dev acc: 0.725 Train acc: 0.746\n",
      "Step: 90500 Dev acc: 0.729 Train acc: 0.735\n",
      "Step: 90750 Dev acc: 0.713 Train acc: 0.745\n",
      "Step: 91000 Dev acc: 0.73 Train acc: 0.739\n",
      "Step: 91250 Dev acc: 0.71 Train acc: 0.726\n",
      "Step: 91500 Dev acc: 0.709 Train acc: 0.734\n",
      "Step: 91750 Dev acc: 0.719 Train acc: 0.726\n",
      "Step: 92000 Dev acc: 0.707 Train acc: 0.733\n",
      "Step: 92250 Dev acc: 0.718 Train acc: 0.716\n",
      "Step: 92500 Dev acc: 0.714 Train acc: 0.724\n",
      "Step: 92750 Dev acc: 0.707 Train acc: 0.733\n",
      "Step: 93000 Dev acc: 0.725 Train acc: 0.717\n",
      "Step: 93250 Dev acc: 0.712 Train acc: 0.732\n",
      "Step: 93500 Dev acc: 0.719 Train acc: 0.732\n",
      "Step: 93750 Dev acc: 0.723 Train acc: 0.717\n",
      "Step: 94000 Dev acc: 0.71 Train acc: 0.738\n",
      "Step: 94250 Dev acc: 0.722 Train acc: 0.74\n",
      "Epoch: 11 Cost: 0.0104055148288\n",
      "Step: 94500 Dev acc: 0.718 Train acc: 0.768\n",
      "Step: 94750 Dev acc: 0.723 Train acc: 0.766\n",
      "Step: 95000 Dev acc: 0.728 Train acc: 0.761\n",
      "Step: 95250 Dev acc: 0.72 Train acc: 0.75\n",
      "Step: 95500 Dev acc: 0.729 Train acc: 0.745\n",
      "Step: 95750 Dev acc: 0.713 Train acc: 0.738\n",
      "Step: 96000 Dev acc: 0.726 Train acc: 0.74\n",
      "Step: 96250 Dev acc: 0.721 Train acc: 0.752\n",
      "Step: 96500 Dev acc: 0.711 Train acc: 0.755\n",
      "Step: 96750 Dev acc: 0.72 Train acc: 0.757\n",
      "Step: 97000 Dev acc: 0.722 Train acc: 0.75\n",
      "Step: 97250 Dev acc: 0.702 Train acc: 0.759\n",
      "Step: 97500 Dev acc: 0.712 Train acc: 0.759\n",
      "Step: 97750 Dev acc: 0.717 Train acc: 0.752\n",
      "Step: 98000 Dev acc: 0.722 Train acc: 0.755\n",
      "Step: 98250 Dev acc: 0.717 Train acc: 0.758\n",
      "Step: 98500 Dev acc: 0.72 Train acc: 0.758\n",
      "Step: 98750 Dev acc: 0.72 Train acc: 0.754\n",
      "Step: 99000 Dev acc: 0.726 Train acc: 0.758\n",
      "Step: 99250 Dev acc: 0.709 Train acc: 0.763\n",
      "Step: 99500 Dev acc: 0.72 Train acc: 0.759\n",
      "Step: 99750 Dev acc: 0.72 Train acc: 0.757\n",
      "Step: 100000 Dev acc: 0.734 Train acc: 0.754\n",
      "Step: 100250 Dev acc: 0.736 Train acc: 0.749\n",
      "Step: 100500 Dev acc: 0.72 Train acc: 0.75\n",
      "Step: 100750 Dev acc: 0.715 Train acc: 0.745\n",
      "Step: 101000 Dev acc: 0.718 Train acc: 0.758\n",
      "Step: 101250 Dev acc: 0.709 Train acc: 0.754\n",
      "Step: 101500 Dev acc: 0.704 Train acc: 0.752\n",
      "Step: 101750 Dev acc: 0.715 Train acc: 0.751\n",
      "Step: 102000 Dev acc: 0.72 Train acc: 0.744\n",
      "Step: 102250 Dev acc: 0.708 Train acc: 0.751\n",
      "Step: 102500 Dev acc: 0.71 Train acc: 0.747\n",
      "Step: 102750 Dev acc: 0.713 Train acc: 0.741\n",
      "Epoch: 12 Cost: 0.0103733616565\n",
      "Step: 103000 Dev acc: 0.714 Train acc: 0.745\n",
      "Step: 103250 Dev acc: 0.708 Train acc: 0.759\n",
      "Step: 103500 Dev acc: 0.712 Train acc: 0.758\n",
      "Step: 103750 Dev acc: 0.721 Train acc: 0.748\n",
      "Step: 104000 Dev acc: 0.704 Train acc: 0.748\n",
      "Step: 104250 Dev acc: 0.71 Train acc: 0.744\n",
      "Step: 104500 Dev acc: 0.719 Train acc: 0.755\n",
      "Step: 104750 Dev acc: 0.714 Train acc: 0.749\n",
      "Step: 105000 Dev acc: 0.712 Train acc: 0.74\n",
      "Step: 105250 Dev acc: 0.716 Train acc: 0.741\n",
      "Step: 105500 Dev acc: 0.715 Train acc: 0.74\n",
      "Step: 105750 Dev acc: 0.715 Train acc: 0.752\n",
      "Step: 106000 Dev acc: 0.726 Train acc: 0.738\n",
      "Step: 106250 Dev acc: 0.716 Train acc: 0.75\n",
      "Step: 106500 Dev acc: 0.717 Train acc: 0.744\n",
      "Step: 106750 Dev acc: 0.721 Train acc: 0.747\n",
      "Step: 107000 Dev acc: 0.718 Train acc: 0.744\n",
      "Step: 107250 Dev acc: 0.719 Train acc: 0.757\n",
      "Step: 107500 Dev acc: 0.713 Train acc: 0.747\n",
      "Step: 107750 Dev acc: 0.707 Train acc: 0.737\n",
      "Step: 108000 Dev acc: 0.723 Train acc: 0.73\n",
      "Step: 108250 Dev acc: 0.72 Train acc: 0.739\n",
      "Step: 108500 Dev acc: 0.727 Train acc: 0.742\n",
      "Step: 108750 Dev acc: 0.713 Train acc: 0.741\n",
      "Step: 109000 Dev acc: 0.715 Train acc: 0.753\n",
      "Step: 109250 Dev acc: 0.723 Train acc: 0.746\n",
      "Step: 109500 Dev acc: 0.713 Train acc: 0.738\n",
      "Step: 109750 Dev acc: 0.721 Train acc: 0.735\n",
      "Step: 110000 Dev acc: 0.723 Train acc: 0.732\n",
      "Step: 110250 Dev acc: 0.725 Train acc: 0.741\n",
      "Step: 110500 Dev acc: 0.719 Train acc: 0.743\n",
      "Step: 110750 Dev acc: 0.723 Train acc: 0.739\n",
      "Step: 111000 Dev acc: 0.709 Train acc: 0.75\n",
      "Step: 111250 Dev acc: 0.735 Train acc: 0.733\n",
      "Step: 111500 Dev acc: 0.726 Train acc: 0.732\n",
      "Epoch: 13 Cost: 0.010334850038\n",
      "Step: 111750 Dev acc: 0.716 Train acc: 0.757\n",
      "Step: 112000 Dev acc: 0.715 Train acc: 0.756\n",
      "Step: 112250 Dev acc: 0.717 Train acc: 0.745\n",
      "Step: 112500 Dev acc: 0.724 Train acc: 0.753\n",
      "Step: 112750 Dev acc: 0.727 Train acc: 0.746\n",
      "Step: 113000 Dev acc: 0.717 Train acc: 0.746\n",
      "Step: 113250 Dev acc: 0.724 Train acc: 0.74\n",
      "Step: 113500 Dev acc: 0.716 Train acc: 0.742\n",
      "Step: 113750 Dev acc: 0.728 Train acc: 0.74\n",
      "Step: 114000 Dev acc: 0.717 Train acc: 0.749\n",
      "Step: 114250 Dev acc: 0.725 Train acc: 0.739\n",
      "Step: 114500 Dev acc: 0.727 Train acc: 0.736\n",
      "Step: 114750 Dev acc: 0.718 Train acc: 0.737\n",
      "Step: 115000 Dev acc: 0.728 Train acc: 0.744\n",
      "Step: 115250 Dev acc: 0.714 Train acc: 0.736\n",
      "Step: 115500 Dev acc: 0.714 Train acc: 0.752\n",
      "Step: 115750 Dev acc: 0.715 Train acc: 0.748\n",
      "Step: 116000 Dev acc: 0.727 Train acc: 0.742\n",
      "Step: 116250 Dev acc: 0.699 Train acc: 0.738\n",
      "Step: 116500 Dev acc: 0.698 Train acc: 0.742\n",
      "Step: 116750 Dev acc: 0.718 Train acc: 0.747\n",
      "Step: 117000 Dev acc: 0.711 Train acc: 0.736\n",
      "Step: 117250 Dev acc: 0.723 Train acc: 0.741\n",
      "Step: 117500 Dev acc: 0.727 Train acc: 0.735\n",
      "Step: 117750 Dev acc: 0.722 Train acc: 0.745\n",
      "Step: 118000 Dev acc: 0.718 Train acc: 0.743\n",
      "Step: 118250 Dev acc: 0.73 Train acc: 0.743\n",
      "Step: 118500 Dev acc: 0.72 Train acc: 0.745\n",
      "Step: 118750 Dev acc: 0.714 Train acc: 0.746\n",
      "Step: 119000 Dev acc: 0.726 Train acc: 0.735\n",
      "Step: 119250 Dev acc: 0.724 Train acc: 0.742\n",
      "Step: 119500 Dev acc: 0.718 Train acc: 0.734\n",
      "Step: 119750 Dev acc: 0.733 Train acc: 0.746\n",
      "Step: 120000 Dev acc: 0.723 Train acc: 0.735\n",
      "Epoch: 14 Cost: 0.0103115511397\n",
      "Step: 120250 Dev acc: 0.714 Train acc: 0.762\n",
      "Step: 120500 Dev acc: 0.719 Train acc: 0.745\n",
      "Step: 120750 Dev acc: 0.727 Train acc: 0.748\n",
      "Step: 121000 Dev acc: 0.721 Train acc: 0.766\n",
      "Step: 121250 Dev acc: 0.726 Train acc: 0.753\n",
      "Step: 121500 Dev acc: 0.712 Train acc: 0.749\n",
      "Step: 121750 Dev acc: 0.716 Train acc: 0.74\n",
      "Step: 122000 Dev acc: 0.711 Train acc: 0.744\n",
      "Step: 122250 Dev acc: 0.717 Train acc: 0.749\n",
      "Step: 122500 Dev acc: 0.714 Train acc: 0.747\n",
      "Step: 122750 Dev acc: 0.722 Train acc: 0.741\n",
      "Step: 123000 Dev acc: 0.719 Train acc: 0.749\n",
      "Step: 123250 Dev acc: 0.714 Train acc: 0.739\n",
      "Step: 123500 Dev acc: 0.718 Train acc: 0.736\n",
      "Step: 123750 Dev acc: 0.721 Train acc: 0.744\n",
      "Step: 124000 Dev acc: 0.705 Train acc: 0.742\n",
      "Step: 124250 Dev acc: 0.723 Train acc: 0.745\n",
      "Step: 124500 Dev acc: 0.719 Train acc: 0.734\n",
      "Step: 124750 Dev acc: 0.715 Train acc: 0.731\n",
      "Step: 125000 Dev acc: 0.725 Train acc: 0.742\n",
      "Step: 125250 Dev acc: 0.708 Train acc: 0.744\n",
      "Step: 125500 Dev acc: 0.728 Train acc: 0.737\n",
      "Step: 125750 Dev acc: 0.724 Train acc: 0.74\n",
      "Step: 126000 Dev acc: 0.712 Train acc: 0.726\n",
      "Step: 126250 Dev acc: 0.712 Train acc: 0.746\n",
      "Step: 126500 Dev acc: 0.724 Train acc: 0.739\n",
      "Step: 126750 Dev acc: 0.716 Train acc: 0.74\n",
      "Step: 127000 Dev acc: 0.719 Train acc: 0.732\n",
      "Step: 127250 Dev acc: 0.726 Train acc: 0.741\n",
      "Step: 127500 Dev acc: 0.73 Train acc: 0.737\n",
      "Step: 127750 Dev acc: 0.702 Train acc: 0.75\n",
      "Step: 128000 Dev acc: 0.713 Train acc: 0.745\n",
      "Step: 128250 Dev acc: 0.713 Train acc: 0.739\n",
      "Step: 128500 Dev acc: 0.703 Train acc: 0.737\n",
      "Epoch: 15 Cost: 0.0102890099731\n",
      "Step: 128750 Dev acc: 0.724 Train acc: 0.745\n",
      "Step: 129000 Dev acc: 0.713 Train acc: 0.757\n",
      "Step: 129250 Dev acc: 0.706 Train acc: 0.748\n",
      "Step: 129500 Dev acc: 0.718 Train acc: 0.753\n",
      "Step: 129750 Dev acc: 0.717 Train acc: 0.751\n",
      "Step: 130000 Dev acc: 0.724 Train acc: 0.749\n",
      "Step: 130250 Dev acc: 0.705 Train acc: 0.747\n",
      "Step: 130500 Dev acc: 0.72 Train acc: 0.749\n",
      "Step: 130750 Dev acc: 0.715 Train acc: 0.744\n",
      "Step: 131000 Dev acc: 0.711 Train acc: 0.749\n",
      "Step: 131250 Dev acc: 0.726 Train acc: 0.74\n",
      "Step: 131500 Dev acc: 0.719 Train acc: 0.756\n",
      "Step: 131750 Dev acc: 0.717 Train acc: 0.745\n",
      "Step: 132000 Dev acc: 0.718 Train acc: 0.747\n",
      "Step: 132250 Dev acc: 0.712 Train acc: 0.745\n",
      "Step: 132500 Dev acc: 0.718 Train acc: 0.74\n",
      "Step: 132750 Dev acc: 0.718 Train acc: 0.73\n",
      "Step: 133000 Dev acc: 0.712 Train acc: 0.753\n",
      "Step: 133250 Dev acc: 0.717 Train acc: 0.746\n",
      "Step: 133500 Dev acc: 0.721 Train acc: 0.742\n",
      "Step: 133750 Dev acc: 0.719 Train acc: 0.738\n",
      "Step: 134000 Dev acc: 0.715 Train acc: 0.739\n",
      "Step: 134250 Dev acc: 0.718 Train acc: 0.733\n",
      "Step: 134500 Dev acc: 0.725 Train acc: 0.736\n",
      "Step: 134750 Dev acc: 0.725 Train acc: 0.745\n",
      "Step: 135000 Dev acc: 0.73 Train acc: 0.743\n",
      "Step: 135250 Dev acc: 0.724 Train acc: 0.731\n",
      "Step: 135500 Dev acc: 0.715 Train acc: 0.74\n",
      "Step: 135750 Dev acc: 0.714 Train acc: 0.735\n",
      "Step: 136000 Dev acc: 0.716 Train acc: 0.74\n",
      "Step: 136250 Dev acc: 0.714 Train acc: 0.741\n",
      "Step: 136500 Dev acc: 0.716 Train acc: 0.745\n",
      "Step: 136750 Dev acc: 0.72 Train acc: 0.743\n",
      "Step: 137000 Dev acc: 0.702 Train acc: 0.744\n",
      "Step: 137250 Dev acc: 0.711 Train acc: 0.743\n",
      "Epoch: 16 Cost: 0.0102659958245\n",
      "Step: 137500 Dev acc: 0.71 Train acc: 0.746\n",
      "Step: 137750 Dev acc: 0.707 Train acc: 0.745\n",
      "Step: 138000 Dev acc: 0.716 Train acc: 0.725\n",
      "Step: 138250 Dev acc: 0.712 Train acc: 0.745\n",
      "Step: 138500 Dev acc: 0.705 Train acc: 0.743\n",
      "Step: 138750 Dev acc: 0.712 Train acc: 0.734\n",
      "Step: 139000 Dev acc: 0.707 Train acc: 0.733\n",
      "Step: 139250 Dev acc: 0.713 Train acc: 0.72\n",
      "Step: 139500 Dev acc: 0.711 Train acc: 0.739\n",
      "Step: 139750 Dev acc: 0.708 Train acc: 0.743\n",
      "Step: 140000 Dev acc: 0.707 Train acc: 0.733\n",
      "Step: 140250 Dev acc: 0.716 Train acc: 0.72\n",
      "Step: 140500 Dev acc: 0.722 Train acc: 0.731\n",
      "Step: 140750 Dev acc: 0.717 Train acc: 0.734\n",
      "Step: 141000 Dev acc: 0.708 Train acc: 0.733\n",
      "Step: 141250 Dev acc: 0.726 Train acc: 0.736\n",
      "Step: 141500 Dev acc: 0.721 Train acc: 0.738\n",
      "Step: 141750 Dev acc: 0.721 Train acc: 0.725\n",
      "Step: 142000 Dev acc: 0.721 Train acc: 0.723\n",
      "Step: 142250 Dev acc: 0.721 Train acc: 0.719\n",
      "Step: 142500 Dev acc: 0.702 Train acc: 0.724\n",
      "Step: 142750 Dev acc: 0.721 Train acc: 0.722\n",
      "Step: 143000 Dev acc: 0.72 Train acc: 0.72\n",
      "Step: 143250 Dev acc: 0.726 Train acc: 0.72\n",
      "Step: 143500 Dev acc: 0.716 Train acc: 0.73\n",
      "Step: 143750 Dev acc: 0.721 Train acc: 0.724\n",
      "Step: 144000 Dev acc: 0.708 Train acc: 0.736\n",
      "Step: 144250 Dev acc: 0.708 Train acc: 0.739\n",
      "Step: 144500 Dev acc: 0.718 Train acc: 0.734\n",
      "Step: 144750 Dev acc: 0.716 Train acc: 0.717\n",
      "Step: 145000 Dev acc: 0.711 Train acc: 0.72\n",
      "Step: 145250 Dev acc: 0.706 Train acc: 0.73\n",
      "Step: 145500 Dev acc: 0.721 Train acc: 0.732\n",
      "Step: 145750 Dev acc: 0.736 Train acc: 0.722\n",
      "Epoch: 17 Cost: 0.0102492346054\n",
      "Step: 146000 Dev acc: 0.717 Train acc: 0.721\n",
      "Step: 146250 Dev acc: 0.714 Train acc: 0.713\n",
      "Step: 146500 Dev acc: 0.715 Train acc: 0.713\n",
      "Step: 146750 Dev acc: 0.722 Train acc: 0.713\n",
      "Step: 147000 Dev acc: 0.729 Train acc: 0.716\n",
      "Step: 147250 Dev acc: 0.72 Train acc: 0.714\n",
      "Step: 147500 Dev acc: 0.711 Train acc: 0.726\n",
      "Step: 147750 Dev acc: 0.726 Train acc: 0.711\n",
      "Step: 148000 Dev acc: 0.722 Train acc: 0.704\n",
      "Step: 148250 Dev acc: 0.72 Train acc: 0.699\n",
      "Step: 148500 Dev acc: 0.724 Train acc: 0.713\n",
      "Step: 148750 Dev acc: 0.73 Train acc: 0.701\n",
      "Step: 149000 Dev acc: 0.724 Train acc: 0.71\n",
      "Step: 149250 Dev acc: 0.712 Train acc: 0.718\n",
      "Step: 149500 Dev acc: 0.72 Train acc: 0.717\n",
      "Step: 149750 Dev acc: 0.717 Train acc: 0.708\n",
      "Step: 150000 Dev acc: 0.712 Train acc: 0.718\n",
      "Step: 150250 Dev acc: 0.721 Train acc: 0.715\n",
      "Step: 150500 Dev acc: 0.722 Train acc: 0.711\n",
      "Step: 150750 Dev acc: 0.723 Train acc: 0.707\n",
      "Step: 151000 Dev acc: 0.701 Train acc: 0.713\n",
      "Step: 151250 Dev acc: 0.726 Train acc: 0.704\n",
      "Step: 151500 Dev acc: 0.717 Train acc: 0.698\n",
      "Step: 151750 Dev acc: 0.717 Train acc: 0.7\n",
      "Step: 152000 Dev acc: 0.729 Train acc: 0.708\n",
      "Step: 152250 Dev acc: 0.713 Train acc: 0.717\n",
      "Step: 152500 Dev acc: 0.719 Train acc: 0.71\n",
      "Step: 152750 Dev acc: 0.716 Train acc: 0.709\n",
      "Step: 153000 Dev acc: 0.718 Train acc: 0.715\n",
      "Step: 153250 Dev acc: 0.717 Train acc: 0.706\n",
      "Step: 153500 Dev acc: 0.713 Train acc: 0.711\n",
      "Step: 153750 Dev acc: 0.713 Train acc: 0.712\n",
      "Step: 154000 Dev acc: 0.711 Train acc: 0.716\n",
      "Step: 154250 Dev acc: 0.704 Train acc: 0.707\n",
      "Epoch: 18 Cost: 0.0102348006431\n",
      "Step: 154500 Dev acc: 0.714 Train acc: 0.732\n",
      "Step: 154750 Dev acc: 0.707 Train acc: 0.75\n",
      "Step: 155000 Dev acc: 0.711 Train acc: 0.715\n",
      "Step: 155250 Dev acc: 0.705 Train acc: 0.742\n",
      "Step: 155500 Dev acc: 0.725 Train acc: 0.728\n",
      "Step: 155750 Dev acc: 0.707 Train acc: 0.728\n",
      "Step: 156000 Dev acc: 0.708 Train acc: 0.728\n",
      "Step: 156250 Dev acc: 0.714 Train acc: 0.732\n",
      "Step: 156500 Dev acc: 0.719 Train acc: 0.727\n",
      "Step: 156750 Dev acc: 0.713 Train acc: 0.721\n",
      "Step: 157000 Dev acc: 0.707 Train acc: 0.728\n",
      "Step: 157250 Dev acc: 0.716 Train acc: 0.715\n",
      "Step: 157500 Dev acc: 0.716 Train acc: 0.724\n",
      "Step: 157750 Dev acc: 0.717 Train acc: 0.719\n",
      "Step: 158000 Dev acc: 0.713 Train acc: 0.708\n",
      "Step: 158250 Dev acc: 0.72 Train acc: 0.717\n",
      "Step: 158500 Dev acc: 0.706 Train acc: 0.726\n",
      "Step: 158750 Dev acc: 0.723 Train acc: 0.719\n",
      "Step: 159000 Dev acc: 0.719 Train acc: 0.714\n",
      "Step: 159250 Dev acc: 0.715 Train acc: 0.729\n",
      "Step: 159500 Dev acc: 0.714 Train acc: 0.731\n",
      "Step: 159750 Dev acc: 0.714 Train acc: 0.726\n",
      "Step: 160000 Dev acc: 0.716 Train acc: 0.734\n",
      "Step: 160250 Dev acc: 0.719 Train acc: 0.726\n",
      "Step: 160500 Dev acc: 0.715 Train acc: 0.738\n",
      "Step: 160750 Dev acc: 0.715 Train acc: 0.729\n",
      "Step: 161000 Dev acc: 0.698 Train acc: 0.734\n",
      "Step: 161250 Dev acc: 0.711 Train acc: 0.721\n",
      "Step: 161500 Dev acc: 0.712 Train acc: 0.716\n",
      "Step: 161750 Dev acc: 0.717 Train acc: 0.72\n",
      "Step: 162000 Dev acc: 0.72 Train acc: 0.733\n",
      "Step: 162250 Dev acc: 0.718 Train acc: 0.716\n",
      "Step: 162500 Dev acc: 0.714 Train acc: 0.722\n",
      "Step: 162750 Dev acc: 0.714 Train acc: 0.731\n",
      "Step: 163000 Dev acc: 0.721 Train acc: 0.721\n",
      "Epoch: 19 Cost: 0.0102164663983\n",
      "Step: 163250 Dev acc: 0.712 Train acc: 0.754\n",
      "Step: 163500 Dev acc: 0.716 Train acc: 0.756\n",
      "Step: 163750 Dev acc: 0.712 Train acc: 0.76\n",
      "Step: 164000 Dev acc: 0.722 Train acc: 0.763\n",
      "Step: 164250 Dev acc: 0.726 Train acc: 0.755\n",
      "Step: 164500 Dev acc: 0.711 Train acc: 0.751\n",
      "Step: 164750 Dev acc: 0.714 Train acc: 0.749\n",
      "Step: 165000 Dev acc: 0.715 Train acc: 0.744\n",
      "Step: 165250 Dev acc: 0.713 Train acc: 0.756\n",
      "Step: 165500 Dev acc: 0.725 Train acc: 0.753\n",
      "Step: 165750 Dev acc: 0.725 Train acc: 0.757\n",
      "Step: 166000 Dev acc: 0.722 Train acc: 0.757\n",
      "Step: 166250 Dev acc: 0.724 Train acc: 0.745\n",
      "Step: 166500 Dev acc: 0.712 Train acc: 0.754\n",
      "Step: 166750 Dev acc: 0.717 Train acc: 0.756\n",
      "Step: 167000 Dev acc: 0.708 Train acc: 0.749\n",
      "Step: 167250 Dev acc: 0.716 Train acc: 0.756\n",
      "Step: 167500 Dev acc: 0.715 Train acc: 0.758\n",
      "Step: 167750 Dev acc: 0.717 Train acc: 0.754\n",
      "Step: 168000 Dev acc: 0.716 Train acc: 0.745\n",
      "Step: 168250 Dev acc: 0.717 Train acc: 0.752\n",
      "Step: 168500 Dev acc: 0.72 Train acc: 0.754\n",
      "Step: 168750 Dev acc: 0.708 Train acc: 0.747\n",
      "Step: 169000 Dev acc: 0.704 Train acc: 0.749\n",
      "Step: 169250 Dev acc: 0.702 Train acc: 0.748\n",
      "Step: 169500 Dev acc: 0.719 Train acc: 0.756\n",
      "Step: 169750 Dev acc: 0.713 Train acc: 0.749\n",
      "Step: 170000 Dev acc: 0.699 Train acc: 0.755\n",
      "Step: 170250 Dev acc: 0.707 Train acc: 0.755\n",
      "Step: 170500 Dev acc: 0.714 Train acc: 0.749\n",
      "Step: 170750 Dev acc: 0.714 Train acc: 0.762\n",
      "Step: 171000 Dev acc: 0.719 Train acc: 0.765\n",
      "Step: 171250 Dev acc: 0.716 Train acc: 0.745\n",
      "Step: 171500 Dev acc: 0.714 Train acc: 0.754\n",
      "Epoch: 20 Cost: 0.010202169073\n",
      "Step: 171750 Dev acc: 0.715 Train acc: 0.75\n",
      "Step: 172000 Dev acc: 0.717 Train acc: 0.733\n",
      "Step: 172250 Dev acc: 0.715 Train acc: 0.734\n",
      "Step: 172500 Dev acc: 0.727 Train acc: 0.739\n",
      "Step: 172750 Dev acc: 0.715 Train acc: 0.742\n",
      "Step: 173000 Dev acc: 0.716 Train acc: 0.74\n",
      "Step: 173250 Dev acc: 0.706 Train acc: 0.737\n",
      "Step: 173500 Dev acc: 0.723 Train acc: 0.742\n",
      "Step: 173750 Dev acc: 0.709 Train acc: 0.741\n",
      "Step: 174000 Dev acc: 0.724 Train acc: 0.731\n",
      "Step: 174250 Dev acc: 0.706 Train acc: 0.73\n",
      "Step: 174500 Dev acc: 0.713 Train acc: 0.732\n",
      "Step: 174750 Dev acc: 0.715 Train acc: 0.731\n",
      "Step: 175000 Dev acc: 0.717 Train acc: 0.727\n",
      "Step: 175250 Dev acc: 0.713 Train acc: 0.734\n",
      "Step: 175500 Dev acc: 0.702 Train acc: 0.731\n",
      "Step: 175750 Dev acc: 0.714 Train acc: 0.729\n",
      "Step: 176000 Dev acc: 0.717 Train acc: 0.724\n",
      "Step: 176250 Dev acc: 0.725 Train acc: 0.724\n",
      "Step: 176500 Dev acc: 0.718 Train acc: 0.73\n",
      "Step: 176750 Dev acc: 0.724 Train acc: 0.729\n",
      "Step: 177000 Dev acc: 0.714 Train acc: 0.735\n",
      "Step: 177250 Dev acc: 0.704 Train acc: 0.73\n",
      "Step: 177500 Dev acc: 0.704 Train acc: 0.736\n",
      "Step: 177750 Dev acc: 0.717 Train acc: 0.73\n"
     ]
    },
    {
     "ename": "KeyboardInterrupt",
     "evalue": "",
     "output_type": "error",
     "traceback": [
      "\u001b[0;31m---------------------------------------------------------------------------\u001b[0m",
      "\u001b[0;31mKeyboardInterrupt\u001b[0m                         Traceback (most recent call last)",
      "\u001b[0;32m<ipython-input-28-4ca79d8ab248>\u001b[0m in \u001b[0;36m<module>\u001b[0;34m()\u001b[0m\n\u001b[0;32m----> 1\u001b[0;31m \u001b[0mclassifier\u001b[0m\u001b[0;34m.\u001b[0m\u001b[0mtrain\u001b[0m\u001b[0;34m(\u001b[0m\u001b[0mtraining_set\u001b[0m\u001b[0;34m,\u001b[0m \u001b[0mdev_set\u001b[0m\u001b[0;34m)\u001b[0m\u001b[0;34m\u001b[0m\u001b[0m\n\u001b[0m",
      "\u001b[0;32m<ipython-input-23-2d08c90a5457>\u001b[0m in \u001b[0;36mtrain\u001b[0;34m(self, training_data, dev_data)\u001b[0m\n\u001b[1;32m    174\u001b[0m                      feed_dict={self.premise_x: minibatch_premise_vectors,\n\u001b[1;32m    175\u001b[0m                                 \u001b[0mself\u001b[0m\u001b[0;34m.\u001b[0m\u001b[0mhypothesis_x\u001b[0m\u001b[0;34m:\u001b[0m \u001b[0mminibatch_hypothesis_vectors\u001b[0m\u001b[0;34m,\u001b[0m\u001b[0;34m\u001b[0m\u001b[0m\n\u001b[0;32m--> 176\u001b[0;31m                                 self.y: minibatch_labels})\n\u001b[0m\u001b[1;32m    177\u001b[0m \u001b[0;34m\u001b[0m\u001b[0m\n\u001b[1;32m    178\u001b[0m                 \u001b[0;32mif\u001b[0m \u001b[0mself\u001b[0m\u001b[0;34m.\u001b[0m\u001b[0mstep\u001b[0m \u001b[0;34m%\u001b[0m \u001b[0mself\u001b[0m\u001b[0;34m.\u001b[0m\u001b[0mdisplay_step_freq\u001b[0m \u001b[0;34m==\u001b[0m \u001b[0;36m0\u001b[0m\u001b[0;34m:\u001b[0m\u001b[0;34m\u001b[0m\u001b[0m\n",
      "\u001b[0;32m/media/wanghaoran1992/5646E5F046E5D133/Users/wangh/SoftwareFrameworks/anaconda/lib/python2.7/site-packages/tensorflow/python/client/session.pyc\u001b[0m in \u001b[0;36mrun\u001b[0;34m(self, fetches, feed_dict, options, run_metadata)\u001b[0m\n\u001b[1;32m    715\u001b[0m     \u001b[0;32mtry\u001b[0m\u001b[0;34m:\u001b[0m\u001b[0;34m\u001b[0m\u001b[0m\n\u001b[1;32m    716\u001b[0m       result = self._run(None, fetches, feed_dict, options_ptr,\n\u001b[0;32m--> 717\u001b[0;31m                          run_metadata_ptr)\n\u001b[0m\u001b[1;32m    718\u001b[0m       \u001b[0;32mif\u001b[0m \u001b[0mrun_metadata\u001b[0m\u001b[0;34m:\u001b[0m\u001b[0;34m\u001b[0m\u001b[0m\n\u001b[1;32m    719\u001b[0m         \u001b[0mproto_data\u001b[0m \u001b[0;34m=\u001b[0m \u001b[0mtf_session\u001b[0m\u001b[0;34m.\u001b[0m\u001b[0mTF_GetBuffer\u001b[0m\u001b[0;34m(\u001b[0m\u001b[0mrun_metadata_ptr\u001b[0m\u001b[0;34m)\u001b[0m\u001b[0;34m\u001b[0m\u001b[0m\n",
      "\u001b[0;32m/media/wanghaoran1992/5646E5F046E5D133/Users/wangh/SoftwareFrameworks/anaconda/lib/python2.7/site-packages/tensorflow/python/client/session.pyc\u001b[0m in \u001b[0;36m_run\u001b[0;34m(self, handle, fetches, feed_dict, options, run_metadata)\u001b[0m\n\u001b[1;32m    913\u001b[0m     \u001b[0;32mif\u001b[0m \u001b[0mfinal_fetches\u001b[0m \u001b[0;32mor\u001b[0m \u001b[0mfinal_targets\u001b[0m\u001b[0;34m:\u001b[0m\u001b[0;34m\u001b[0m\u001b[0m\n\u001b[1;32m    914\u001b[0m       results = self._do_run(handle, final_targets, final_fetches,\n\u001b[0;32m--> 915\u001b[0;31m                              feed_dict_string, options, run_metadata)\n\u001b[0m\u001b[1;32m    916\u001b[0m     \u001b[0;32melse\u001b[0m\u001b[0;34m:\u001b[0m\u001b[0;34m\u001b[0m\u001b[0m\n\u001b[1;32m    917\u001b[0m       \u001b[0mresults\u001b[0m \u001b[0;34m=\u001b[0m \u001b[0;34m[\u001b[0m\u001b[0;34m]\u001b[0m\u001b[0;34m\u001b[0m\u001b[0m\n",
      "\u001b[0;32m/media/wanghaoran1992/5646E5F046E5D133/Users/wangh/SoftwareFrameworks/anaconda/lib/python2.7/site-packages/tensorflow/python/client/session.pyc\u001b[0m in \u001b[0;36m_do_run\u001b[0;34m(self, handle, target_list, fetch_list, feed_dict, options, run_metadata)\u001b[0m\n\u001b[1;32m    963\u001b[0m     \u001b[0;32mif\u001b[0m \u001b[0mhandle\u001b[0m \u001b[0;32mis\u001b[0m \u001b[0mNone\u001b[0m\u001b[0;34m:\u001b[0m\u001b[0;34m\u001b[0m\u001b[0m\n\u001b[1;32m    964\u001b[0m       return self._do_call(_run_fn, self._session, feed_dict, fetch_list,\n\u001b[0;32m--> 965\u001b[0;31m                            target_list, options, run_metadata)\n\u001b[0m\u001b[1;32m    966\u001b[0m     \u001b[0;32melse\u001b[0m\u001b[0;34m:\u001b[0m\u001b[0;34m\u001b[0m\u001b[0m\n\u001b[1;32m    967\u001b[0m       return self._do_call(_prun_fn, self._session, handle, feed_dict,\n",
      "\u001b[0;32m/media/wanghaoran1992/5646E5F046E5D133/Users/wangh/SoftwareFrameworks/anaconda/lib/python2.7/site-packages/tensorflow/python/client/session.pyc\u001b[0m in \u001b[0;36m_do_call\u001b[0;34m(self, fn, *args)\u001b[0m\n\u001b[1;32m    970\u001b[0m   \u001b[0;32mdef\u001b[0m \u001b[0m_do_call\u001b[0m\u001b[0;34m(\u001b[0m\u001b[0mself\u001b[0m\u001b[0;34m,\u001b[0m \u001b[0mfn\u001b[0m\u001b[0;34m,\u001b[0m \u001b[0;34m*\u001b[0m\u001b[0margs\u001b[0m\u001b[0;34m)\u001b[0m\u001b[0;34m:\u001b[0m\u001b[0;34m\u001b[0m\u001b[0m\n\u001b[1;32m    971\u001b[0m     \u001b[0;32mtry\u001b[0m\u001b[0;34m:\u001b[0m\u001b[0;34m\u001b[0m\u001b[0m\n\u001b[0;32m--> 972\u001b[0;31m       \u001b[0;32mreturn\u001b[0m \u001b[0mfn\u001b[0m\u001b[0;34m(\u001b[0m\u001b[0;34m*\u001b[0m\u001b[0margs\u001b[0m\u001b[0;34m)\u001b[0m\u001b[0;34m\u001b[0m\u001b[0m\n\u001b[0m\u001b[1;32m    973\u001b[0m     \u001b[0;32mexcept\u001b[0m \u001b[0merrors\u001b[0m\u001b[0;34m.\u001b[0m\u001b[0mOpError\u001b[0m \u001b[0;32mas\u001b[0m \u001b[0me\u001b[0m\u001b[0;34m:\u001b[0m\u001b[0;34m\u001b[0m\u001b[0m\n\u001b[1;32m    974\u001b[0m       \u001b[0mmessage\u001b[0m \u001b[0;34m=\u001b[0m \u001b[0mcompat\u001b[0m\u001b[0;34m.\u001b[0m\u001b[0mas_text\u001b[0m\u001b[0;34m(\u001b[0m\u001b[0me\u001b[0m\u001b[0;34m.\u001b[0m\u001b[0mmessage\u001b[0m\u001b[0;34m)\u001b[0m\u001b[0;34m\u001b[0m\u001b[0m\n",
      "\u001b[0;32m/media/wanghaoran1992/5646E5F046E5D133/Users/wangh/SoftwareFrameworks/anaconda/lib/python2.7/site-packages/tensorflow/python/client/session.pyc\u001b[0m in \u001b[0;36m_run_fn\u001b[0;34m(session, feed_dict, fetch_list, target_list, options, run_metadata)\u001b[0m\n\u001b[1;32m    952\u001b[0m         return tf_session.TF_Run(session, options,\n\u001b[1;32m    953\u001b[0m                                  \u001b[0mfeed_dict\u001b[0m\u001b[0;34m,\u001b[0m \u001b[0mfetch_list\u001b[0m\u001b[0;34m,\u001b[0m \u001b[0mtarget_list\u001b[0m\u001b[0;34m,\u001b[0m\u001b[0;34m\u001b[0m\u001b[0m\n\u001b[0;32m--> 954\u001b[0;31m                                  status, run_metadata)\n\u001b[0m\u001b[1;32m    955\u001b[0m \u001b[0;34m\u001b[0m\u001b[0m\n\u001b[1;32m    956\u001b[0m     \u001b[0;32mdef\u001b[0m \u001b[0m_prun_fn\u001b[0m\u001b[0;34m(\u001b[0m\u001b[0msession\u001b[0m\u001b[0;34m,\u001b[0m \u001b[0mhandle\u001b[0m\u001b[0;34m,\u001b[0m \u001b[0mfeed_dict\u001b[0m\u001b[0;34m,\u001b[0m \u001b[0mfetch_list\u001b[0m\u001b[0;34m)\u001b[0m\u001b[0;34m:\u001b[0m\u001b[0;34m\u001b[0m\u001b[0m\n",
      "\u001b[0;31mKeyboardInterrupt\u001b[0m: "
     ]
    }
   ],
   "source": [
    "classifier.train(training_set, dev_set)"
   ]
  },
  {
   "cell_type": "markdown",
   "metadata": {},
   "source": [
    "This will print some (NYU-colored) visualizations for the first ten training examples. It should be useful in the questions below."
   ]
  },
  {
   "cell_type": "code",
   "execution_count": 29,
   "metadata": {
    "collapsed": false,
    "scrolled": false
   },
   "outputs": [
    {
     "data": {
      "image/png": "[encoded data removed]",
      "text/plain": [
       "<matplotlib.figure.Figure at 0x7f44e507dd10>"
      ]
     },
     "metadata": {},
     "output_type": "display_data"
    },
    {
     "data": {
      "image/png": "[encoded data removed]",
      "text/plain": [
       "<matplotlib.figure.Figure at 0x7f44c48d62d0>"
      ]
     },
     "metadata": {},
     "output_type": "display_data"
    },
    {
     "data": {
      "image/png": "[encoded data removed]",
      "text/plain": [
       "<matplotlib.figure.Figure at 0x7f44c482cb90>"
      ]
     },
     "metadata": {},
     "output_type": "display_data"
    },
    {
     "data": {
      "image/png": "[encoded data removed]",
      "text/plain": [
       "<matplotlib.figure.Figure at 0x7f44c474e9d0>"
      ]
     },
     "metadata": {},
     "output_type": "display_data"
    },
    {
     "data": {
      "image/png": "[encoded data removed]",
      "text/plain": [
       "<matplotlib.figure.Figure at 0x7f44c46eb2d0>"
      ]
     },
     "metadata": {},
     "output_type": "display_data"
    },
    {
     "data": {
      "image/png": "[encoded data removed]",
      "text/plain": [
       "<matplotlib.figure.Figure at 0x7f44c4620e10>"
      ]
     },
     "metadata": {},
     "output_type": "display_data"
    },
    {
     "data": {
      "image/png": "[encoded data removed]",
      "text/plain": [
       "<matplotlib.figure.Figure at 0x7f44c45455d0>"
      ]
     },
     "metadata": {},
     "output_type": "display_data"
    },
    {
     "data": {
      "image/png": "[encoded data removed]",
      "text/plain": [
       "<matplotlib.figure.Figure at 0x7f44c4486b50>"
      ]
     },
     "metadata": {},
     "output_type": "display_data"
    },
    {
     "data": {
      "image/png": "[encoded data removed]",
      "text/plain": [
       "<matplotlib.figure.Figure at 0x7f44c4475d10>"
      ]
     },
     "metadata": {},
     "output_type": "display_data"
    },
    {
     "data": {
      "image/png": "[encoded data removed]",
      "text/plain": [
       "<matplotlib.figure.Figure at 0x7f44c43b8690>"
      ]
     },
     "metadata": {},
     "output_type": "display_data"
    }
   ],
   "source": [
    "classifier.plot_attn(training_set[0:10])"
   ]
  },
  {
   "cell_type": "markdown",
   "metadata": {},
   "source": [
    "## Part 2: Questions (30%)"
   ]
  },
  {
   "cell_type": "markdown",
   "metadata": {},
   "source": [
    "**Question 1:** Consider a version of our model that discards the attention scoring function, and instead always allocates all of its attention on a single word, where that single word is selected by a simple strategy that does not depend on the contents of the hypothesis sentence. With the right such strategy, this version of our model would still be able to learn to solve NLI well (i.e., with better than 80% dev accuracy), though we might need to use larger hidden states in our GRU. What simple strategy would we need to use and why?"
   ]
  },
  {
   "cell_type": "markdown",
   "metadata": {},
   "source": [
    "**Answer:** We can just select the subject of the premise to be the word. We can still achieve a high accuracy because the relationship between subjects of premise and hypothesis indicates the relationship between the two sentences. "
   ]
  },
  {
   "cell_type": "markdown",
   "metadata": {},
   "source": [
    "**Question 2:** Looking at a visualization like the ones generated above, it is usually possible to identify which axis contains the hypothesis words and which axis contains the premise words. This is possible even if you look only at the plot itself and disregard the words. What property of the plot allows you do this? Under what circumstances would such a strategy fail to give you an answer?"
   ]
  },
  {
   "cell_type": "markdown",
   "metadata": {
    "collapsed": false
   },
   "source": [
    "**Answer:** The weights of a given word in a hypothesis sentence sum up to 1, but the weights of a premise word do not. So if we see from the plot that multiple large weights appear for some word, then it's likely that this word is in the premise sentence. Or if we see there is very small sum of weights for some word, then we can speculate that it's also in the premise sentence because the weighs of a hypothesis word has to sum up to 1.\n",
    "\n",
    "However, if the two sentences are very close to each other and the there is almost one-to-one alignment between the two sentences, this stragegy will fail to give an answer because we cannot see if the sum of weights of a given word is clearly larger than 1 or below 1."
   ]
  },
  {
   "cell_type": "markdown",
   "metadata": {},
   "source": [
    "**Question 3:** Using the visualization tool above, and any additional evaluation tools you find useful, show one example each of a case where...\n",
    "  - ...the model uses attention in a reasonable way and gets a correct answer.\n",
    "  - ...the model uses attention in an unreasonable/unhelpful way, but gets a correct answer anyway.\n",
    "  - ...the model uses attention in a reasonable way, but gets an incorrect answer.\n",
    "  - ...the model uses attention in an unreasonable/unhelpful way and gets an incorrect answer.\n",
    "  \n",
    "You should make sure that these four examples are displayed one after another, and you should include some commentary on what role you think attention might be playing in each decision."
   ]
  },
  {
   "cell_type": "markdown",
   "metadata": {},
   "source": []
  },
  {
   "cell_type": "code",
   "execution_count": 40,
   "metadata": {
    "collapsed": false
   },
   "outputs": [
    {
     "name": "stdout",
     "output_type": "stream",
     "text": [
      "The true label:1\n",
      "Predicted label: [1]\n"
     ]
    },
    {
     "data": {
      "image/png": "[encoded data removed]",
      "text/plain": [
       "<matplotlib.figure.Figure at 0x7f447ff78790>"
      ]
     },
     "metadata": {},
     "output_type": "display_data"
    }
   ],
   "source": [
    "def analysis(example):\n",
    "    print \"The true label:\" + str(example[0]['label'])\n",
    "    print \"Predicted label: \" + str(classifier.classify(example))\n",
    "    classifier.plot_attn(example)\n",
    "\n",
    "analysis([training_set[7]])"
   ]
  },
  {
   "cell_type": "markdown",
   "metadata": {},
   "source": [
    "From the result above, we see that the model uses attention in a reasonable way and gets a correct answer. In this case, attention makes a good alignment between words of hypothesis and premise so the matching layer can well encode the information between attention and hypythesis hidden state and make a good prediction."
   ]
  },
  {
   "cell_type": "code",
   "execution_count": 54,
   "metadata": {
    "collapsed": false
   },
   "outputs": [
    {
     "name": "stdout",
     "output_type": "stream",
     "text": [
      "The true label:2\n",
      "Predicted label: [2]\n"
     ]
    },
    {
     "data": {
      "image/png": "[encoded data removed]",
      "text/plain": [
       "<matplotlib.figure.Figure at 0x7f447f831f90>"
      ]
     },
     "metadata": {},
     "output_type": "display_data"
    }
   ],
   "source": [
    "analysis([training_set[17]])"
   ]
  },
  {
   "cell_type": "markdown",
   "metadata": {},
   "source": [
    "For this sentence, the model uses attention in an unhelpful way but still gets a correct answer. The alignment between words in the two sentences is not so close that words can be matched with each other. So in this case the attention didn't help too much but the model still gets the right answer."
   ]
  },
  {
   "cell_type": "code",
   "execution_count": 53,
   "metadata": {
    "collapsed": false
   },
   "outputs": [
    {
     "name": "stdout",
     "output_type": "stream",
     "text": [
      "The true label:1\n",
      "Predicted label: [0]\n"
     ]
    },
    {
     "data": {
      "image/png": "[encoded data removed]",
      "text/plain": [
       "<matplotlib.figure.Figure at 0x7f447fad40d0>"
      ]
     },
     "metadata": {},
     "output_type": "display_data"
    }
   ],
   "source": [
    "analysis([training_set[15]])"
   ]
  },
  {
   "cell_type": "markdown",
   "metadata": {},
   "source": [
    "Here, the model uses attention in a reasonable way but gets an incorrect answer. We see that words of hypothesis and premise are aligned with each other pretty well because of attention mechanism but we still get a wrong answer. One possible issue might be that we are limiting the sequence length to be 10 so some important information is needed in order to accurately predict the relationship between the two."
   ]
  },
  {
   "cell_type": "code",
   "execution_count": 47,
   "metadata": {
    "collapsed": false
   },
   "outputs": [
    {
     "name": "stdout",
     "output_type": "stream",
     "text": [
      "The true label:2\n",
      "Predicted label: [1]\n"
     ]
    },
    {
     "data": {
      "image/png": "[encoded data removed]",
      "text/plain": [
       "<matplotlib.figure.Figure at 0x7f45642f2050>"
      ]
     },
     "metadata": {},
     "output_type": "display_data"
    }
   ],
   "source": [
    "analysis([training_set[12]])"
   ]
  },
  {
   "cell_type": "markdown",
   "metadata": {},
   "source": [
    "Lastly, the model uses attention in an unreasonable way and gets an incorrect answer. Here we see that there is not a clear alignment between the two sentences given by the attention. The biggest weight is between \"child\" and \"in\", which seems unhelpful. And our model gave a wrong prediction for this example."
   ]
  },
  {
   "cell_type": "code",
   "execution_count": null,
   "metadata": {
    "collapsed": true
   },
   "outputs": [],
   "source": []
  }
 ],
 "metadata": {
  "anaconda-cloud": {},
  "kernelspec": {
   "display_name": "Python [default]",
   "language": "python",
   "name": "python2"
  },
  "language_info": {
   "codemirror_mode": {
    "name": "ipython",
    "version": 2
   },
   "file_extension": ".py",
   "mimetype": "text/x-python",
   "name": "python",
   "nbconvert_exporter": "python",
   "pygments_lexer": "ipython2",
   "version": "2.7.12"
  }
 },
 "nbformat": 4,
 "nbformat_minor": 0
}
